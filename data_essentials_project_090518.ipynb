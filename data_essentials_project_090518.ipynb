{
 "cells": [
  {
   "cell_type": "markdown",
   "metadata": {},
   "source": [
    "#### Import data"
   ]
  },
  {
   "cell_type": "code",
   "execution_count": 1,
   "metadata": {},
   "outputs": [],
   "source": [
    "import pandas as pd"
   ]
  },
  {
   "cell_type": "code",
   "execution_count": 2,
   "metadata": {},
   "outputs": [
    {
     "data": {
      "text/html": [
       "<div>\n",
       "<style scoped>\n",
       "    .dataframe tbody tr th:only-of-type {\n",
       "        vertical-align: middle;\n",
       "    }\n",
       "\n",
       "    .dataframe tbody tr th {\n",
       "        vertical-align: top;\n",
       "    }\n",
       "\n",
       "    .dataframe thead th {\n",
       "        text-align: right;\n",
       "    }\n",
       "</style>\n",
       "<table border=\"1\" class=\"dataframe\">\n",
       "  <thead>\n",
       "    <tr style=\"text-align: right;\">\n",
       "      <th></th>\n",
       "      <th>CMS Certification Number (CCN)</th>\n",
       "      <th>Facility Name</th>\n",
       "      <th>Address Line 1</th>\n",
       "      <th>Address Line 2</th>\n",
       "      <th>City</th>\n",
       "      <th>State</th>\n",
       "      <th>Zip Code</th>\n",
       "      <th>County Name</th>\n",
       "      <th>PhoneNumber</th>\n",
       "      <th>CMS Region</th>\n",
       "      <th>Ownership Type</th>\n",
       "      <th>Certification Date</th>\n",
       "    </tr>\n",
       "  </thead>\n",
       "  <tbody>\n",
       "    <tr>\n",
       "      <th>0</th>\n",
       "      <td>11500</td>\n",
       "      <td>BAPTIST HOSPICE</td>\n",
       "      <td>301 INTERSTATE PARK</td>\n",
       "      <td>NaN</td>\n",
       "      <td>MONTGOMERY</td>\n",
       "      <td>AL</td>\n",
       "      <td>36109</td>\n",
       "      <td>Montgomery</td>\n",
       "      <td>(334) 395-5000</td>\n",
       "      <td>4</td>\n",
       "      <td>Other</td>\n",
       "      <td>03/23/1984</td>\n",
       "    </tr>\n",
       "    <tr>\n",
       "      <th>1</th>\n",
       "      <td>11501</td>\n",
       "      <td>SOUTHERNCARE NEW BEACON N. BIRMINGHAM</td>\n",
       "      <td>4735 NORREL DRIVE, SUITE 129</td>\n",
       "      <td>NaN</td>\n",
       "      <td>TRUSSVILLE</td>\n",
       "      <td>AL</td>\n",
       "      <td>35173</td>\n",
       "      <td>Jefferson</td>\n",
       "      <td>(205) 939-8799</td>\n",
       "      <td>4</td>\n",
       "      <td>For-Profit</td>\n",
       "      <td>05/24/1984</td>\n",
       "    </tr>\n",
       "  </tbody>\n",
       "</table>\n",
       "</div>"
      ],
      "text/plain": [
       "   CMS Certification Number (CCN)                          Facility Name  \\\n",
       "0                           11500                        BAPTIST HOSPICE   \n",
       "1                           11501  SOUTHERNCARE NEW BEACON N. BIRMINGHAM   \n",
       "\n",
       "                 Address Line 1  Address Line 2        City State  Zip Code  \\\n",
       "0           301 INTERSTATE PARK             NaN  MONTGOMERY    AL     36109   \n",
       "1  4735 NORREL DRIVE, SUITE 129             NaN  TRUSSVILLE    AL     35173   \n",
       "\n",
       "  County Name     PhoneNumber  CMS Region Ownership Type Certification Date  \n",
       "0  Montgomery  (334) 395-5000           4          Other         03/23/1984  \n",
       "1   Jefferson  (205) 939-8799           4     For-Profit         05/24/1984  "
      ]
     },
     "execution_count": 2,
     "metadata": {},
     "output_type": "execute_result"
    }
   ],
   "source": [
    "hospice_df = pd.read_csv('data/Hospice_General_Information.csv')\n",
    "hospice_df.head(2)"
   ]
  },
  {
   "cell_type": "code",
   "execution_count": 3,
   "metadata": {},
   "outputs": [
    {
     "data": {
      "text/html": [
       "<div>\n",
       "<style scoped>\n",
       "    .dataframe tbody tr th:only-of-type {\n",
       "        vertical-align: middle;\n",
       "    }\n",
       "\n",
       "    .dataframe tbody tr th {\n",
       "        vertical-align: top;\n",
       "    }\n",
       "\n",
       "    .dataframe thead th {\n",
       "        text-align: right;\n",
       "    }\n",
       "</style>\n",
       "<table border=\"1\" class=\"dataframe\">\n",
       "  <thead>\n",
       "    <tr style=\"text-align: right;\">\n",
       "      <th></th>\n",
       "      <th>CMS Certification Number (CCN)</th>\n",
       "      <th>Facility Name</th>\n",
       "      <th>Address Line 1</th>\n",
       "      <th>Address Line 2</th>\n",
       "      <th>City</th>\n",
       "      <th>State</th>\n",
       "      <th>Zip Code</th>\n",
       "      <th>County Name</th>\n",
       "      <th>PhoneNumber</th>\n",
       "      <th>CMS Region</th>\n",
       "      <th>Ownership Type</th>\n",
       "      <th>Certification Date</th>\n",
       "    </tr>\n",
       "  </thead>\n",
       "  <tbody>\n",
       "    <tr>\n",
       "      <th>2889</th>\n",
       "      <td>441501</td>\n",
       "      <td>ALIVE HOSPICE INC</td>\n",
       "      <td>1718 PATTERSON ROAD</td>\n",
       "      <td>NaN</td>\n",
       "      <td>NASHVILLE</td>\n",
       "      <td>TN</td>\n",
       "      <td>37203</td>\n",
       "      <td>Davidson</td>\n",
       "      <td>(615) 327-1085</td>\n",
       "      <td>4</td>\n",
       "      <td>Non-Profit</td>\n",
       "      <td>04/10/1984</td>\n",
       "    </tr>\n",
       "    <tr>\n",
       "      <th>2890</th>\n",
       "      <td>441502</td>\n",
       "      <td>METHODIST ALLIANCE HOSPICE</td>\n",
       "      <td>6400 SHELBY VIEW DRIVE, SUITE 101</td>\n",
       "      <td>NaN</td>\n",
       "      <td>MEMPHIS</td>\n",
       "      <td>TN</td>\n",
       "      <td>38134</td>\n",
       "      <td>Shelby</td>\n",
       "      <td>(901) 516-1600</td>\n",
       "      <td>4</td>\n",
       "      <td>Non-Profit</td>\n",
       "      <td>08/31/1984</td>\n",
       "    </tr>\n",
       "  </tbody>\n",
       "</table>\n",
       "</div>"
      ],
      "text/plain": [
       "      CMS Certification Number (CCN)               Facility Name  \\\n",
       "2889                          441501           ALIVE HOSPICE INC   \n",
       "2890                          441502  METHODIST ALLIANCE HOSPICE   \n",
       "\n",
       "                         Address Line 1  Address Line 2       City State  \\\n",
       "2889                1718 PATTERSON ROAD             NaN  NASHVILLE    TN   \n",
       "2890  6400 SHELBY VIEW DRIVE, SUITE 101             NaN    MEMPHIS    TN   \n",
       "\n",
       "      Zip Code County Name     PhoneNumber  CMS Region Ownership Type  \\\n",
       "2889     37203    Davidson  (615) 327-1085           4     Non-Profit   \n",
       "2890     38134      Shelby  (901) 516-1600           4     Non-Profit   \n",
       "\n",
       "     Certification Date  \n",
       "2889         04/10/1984  \n",
       "2890         08/31/1984  "
      ]
     },
     "execution_count": 3,
     "metadata": {},
     "output_type": "execute_result"
    }
   ],
   "source": [
    "hospice_df = hospice_df.loc[hospice_df.State == \"TN\"]\n",
    "hospice_df.head(2)"
   ]
  },
  {
   "cell_type": "code",
   "execution_count": 4,
   "metadata": {},
   "outputs": [
    {
     "data": {
      "text/html": [
       "<div>\n",
       "<style scoped>\n",
       "    .dataframe tbody tr th:only-of-type {\n",
       "        vertical-align: middle;\n",
       "    }\n",
       "\n",
       "    .dataframe tbody tr th {\n",
       "        vertical-align: top;\n",
       "    }\n",
       "\n",
       "    .dataframe thead th {\n",
       "        text-align: right;\n",
       "    }\n",
       "</style>\n",
       "<table border=\"1\" class=\"dataframe\">\n",
       "  <thead>\n",
       "    <tr style=\"text-align: right;\">\n",
       "      <th></th>\n",
       "      <th>ccn</th>\n",
       "      <th>facility</th>\n",
       "      <th>address</th>\n",
       "      <th>address2</th>\n",
       "      <th>city</th>\n",
       "      <th>state</th>\n",
       "      <th>zip</th>\n",
       "      <th>county</th>\n",
       "      <th>phone</th>\n",
       "      <th>region</th>\n",
       "      <th>owner_type</th>\n",
       "      <th>cert_date</th>\n",
       "    </tr>\n",
       "  </thead>\n",
       "  <tbody>\n",
       "    <tr>\n",
       "      <th>2889</th>\n",
       "      <td>441501</td>\n",
       "      <td>ALIVE HOSPICE INC</td>\n",
       "      <td>1718 PATTERSON ROAD</td>\n",
       "      <td>NaN</td>\n",
       "      <td>NASHVILLE</td>\n",
       "      <td>TN</td>\n",
       "      <td>37203</td>\n",
       "      <td>Davidson</td>\n",
       "      <td>(615) 327-1085</td>\n",
       "      <td>4</td>\n",
       "      <td>Non-Profit</td>\n",
       "      <td>04/10/1984</td>\n",
       "    </tr>\n",
       "    <tr>\n",
       "      <th>2890</th>\n",
       "      <td>441502</td>\n",
       "      <td>METHODIST ALLIANCE HOSPICE</td>\n",
       "      <td>6400 SHELBY VIEW DRIVE, SUITE 101</td>\n",
       "      <td>NaN</td>\n",
       "      <td>MEMPHIS</td>\n",
       "      <td>TN</td>\n",
       "      <td>38134</td>\n",
       "      <td>Shelby</td>\n",
       "      <td>(901) 516-1600</td>\n",
       "      <td>4</td>\n",
       "      <td>Non-Profit</td>\n",
       "      <td>08/31/1984</td>\n",
       "    </tr>\n",
       "  </tbody>\n",
       "</table>\n",
       "</div>"
      ],
      "text/plain": [
       "         ccn                    facility                            address  \\\n",
       "2889  441501           ALIVE HOSPICE INC                1718 PATTERSON ROAD   \n",
       "2890  441502  METHODIST ALLIANCE HOSPICE  6400 SHELBY VIEW DRIVE, SUITE 101   \n",
       "\n",
       "      address2       city state    zip    county           phone  region  \\\n",
       "2889       NaN  NASHVILLE    TN  37203  Davidson  (615) 327-1085       4   \n",
       "2890       NaN    MEMPHIS    TN  38134    Shelby  (901) 516-1600       4   \n",
       "\n",
       "      owner_type   cert_date  \n",
       "2889  Non-Profit  04/10/1984  \n",
       "2890  Non-Profit  08/31/1984  "
      ]
     },
     "execution_count": 4,
     "metadata": {},
     "output_type": "execute_result"
    }
   ],
   "source": [
    "# Facility Name, Address Line 1, City, State, County Name, CMS Region, Ownership Type, and Cerfification Date\n",
    "hospice_df.columns = ['ccn', 'facility', 'address', 'address2', 'city', 'state', 'zip', 'county', 'phone', 'region', 'owner_type', 'cert_date']\n",
    "hospice_df.head(2)"
   ]
  },
  {
   "cell_type": "code",
   "execution_count": 5,
   "metadata": {},
   "outputs": [
    {
     "data": {
      "text/html": [
       "<div>\n",
       "<style scoped>\n",
       "    .dataframe tbody tr th:only-of-type {\n",
       "        vertical-align: middle;\n",
       "    }\n",
       "\n",
       "    .dataframe tbody tr th {\n",
       "        vertical-align: top;\n",
       "    }\n",
       "\n",
       "    .dataframe thead th {\n",
       "        text-align: right;\n",
       "    }\n",
       "</style>\n",
       "<table border=\"1\" class=\"dataframe\">\n",
       "  <thead>\n",
       "    <tr style=\"text-align: right;\">\n",
       "      <th></th>\n",
       "      <th>facility</th>\n",
       "      <th>address</th>\n",
       "      <th>city</th>\n",
       "      <th>state</th>\n",
       "      <th>county</th>\n",
       "      <th>region</th>\n",
       "      <th>owner_type</th>\n",
       "      <th>cert_date</th>\n",
       "    </tr>\n",
       "  </thead>\n",
       "  <tbody>\n",
       "    <tr>\n",
       "      <th>2889</th>\n",
       "      <td>ALIVE HOSPICE INC</td>\n",
       "      <td>1718 PATTERSON ROAD</td>\n",
       "      <td>NASHVILLE</td>\n",
       "      <td>TN</td>\n",
       "      <td>Davidson</td>\n",
       "      <td>4</td>\n",
       "      <td>Non-Profit</td>\n",
       "      <td>04/10/1984</td>\n",
       "    </tr>\n",
       "    <tr>\n",
       "      <th>2890</th>\n",
       "      <td>METHODIST ALLIANCE HOSPICE</td>\n",
       "      <td>6400 SHELBY VIEW DRIVE, SUITE 101</td>\n",
       "      <td>MEMPHIS</td>\n",
       "      <td>TN</td>\n",
       "      <td>Shelby</td>\n",
       "      <td>4</td>\n",
       "      <td>Non-Profit</td>\n",
       "      <td>08/31/1984</td>\n",
       "    </tr>\n",
       "  </tbody>\n",
       "</table>\n",
       "</div>"
      ],
      "text/plain": [
       "                        facility                            address  \\\n",
       "2889           ALIVE HOSPICE INC                1718 PATTERSON ROAD   \n",
       "2890  METHODIST ALLIANCE HOSPICE  6400 SHELBY VIEW DRIVE, SUITE 101   \n",
       "\n",
       "           city state    county  region  owner_type   cert_date  \n",
       "2889  NASHVILLE    TN  Davidson       4  Non-Profit  04/10/1984  \n",
       "2890    MEMPHIS    TN    Shelby       4  Non-Profit  08/31/1984  "
      ]
     },
     "execution_count": 5,
     "metadata": {},
     "output_type": "execute_result"
    }
   ],
   "source": [
    "hospice_df = hospice_df.drop(columns = ['ccn', 'address2', 'zip', 'phone'])\n",
    "hospice_df.head(2)"
   ]
  },
  {
   "cell_type": "code",
   "execution_count": 6,
   "metadata": {},
   "outputs": [
    {
     "name": "stdout",
     "output_type": "stream",
     "text": [
      "top                                 facility                            address  \\\n",
      "2889                   ALIVE HOSPICE INC                1718 PATTERSON ROAD   \n",
      "2890          METHODIST ALLIANCE HOSPICE  6400 SHELBY VIEW DRIVE, SUITE 101   \n",
      "2891          HOSPICE OF CHATTANOOGA INC                 4411 OAKWOOD DRIVE   \n",
      "2892               AMEDISYS HOSPICE CARE          6570 STAGE ROAD SUITE 110   \n",
      "2893  NORTHCREST HOME HEALTH AND HOSPICE               212 NORTHCREST DRIVE   \n",
      "\n",
      "             city state     county  region  owner_type   cert_date  \n",
      "2889    NASHVILLE    TN   Davidson       4  Non-Profit  04/10/1984  \n",
      "2890      MEMPHIS    TN     Shelby       4  Non-Profit  08/31/1984  \n",
      "2891  CHATTANOOGA    TN   Hamilton       4  Non-Profit  06/30/1986  \n",
      "2892     BARTLETT    TN     Shelby       4  For-Profit  02/09/1987  \n",
      "2893  SPRINGFIELD    TN  Robertson       4       Other  07/13/1987  \n",
      "-------------------------------\n",
      "bottom                                   facility                        address  \\\n",
      "2940        ENCOMPASS HOSPICE OF TENNESSEE    828 ROYAL PARKWAY SUITE 113   \n",
      "2941                       QUALITY HOSPICE        341 WEST CENTRAL AVENUE   \n",
      "2942                        HEARTH HOSPICE  1800A ROSSVILLE AVE SUITE 114   \n",
      "2943  AMEDISYS HOSPICE, AN ADVENTA COMPANY              400 ROYAL PARKWAY   \n",
      "2944                       KINDRED HOSPICE        430 STUART RD NE, STE 2   \n",
      "\n",
      "             city state    county  region  owner_type   cert_date  \n",
      "2940    NASHVILLE    TN  Davidson       4  For-Profit  06/16/2010  \n",
      "2941    JAMESTOWN    TN  Fentress       4  For-Profit  01/04/2013  \n",
      "2942  CHATTANOOGA    TN  Hamilton       4  For-Profit  03/22/2013  \n",
      "2943    NASHVILLE    TN  Davidson       4       Other  01/05/2016  \n",
      "2944    CLEVELAND    TN   Bradley       4  For-Profit  01/04/2017  \n"
     ]
    }
   ],
   "source": [
    "print('top',hospice_df.head())\n",
    "print('-------------------------------')\n",
    "print('bottom', hospice_df.tail())"
   ]
  },
  {
   "cell_type": "code",
   "execution_count": 7,
   "metadata": {},
   "outputs": [
    {
     "data": {
      "text/plain": [
       "(56, 8)"
      ]
     },
     "execution_count": 7,
     "metadata": {},
     "output_type": "execute_result"
    }
   ],
   "source": [
    "# print dimensions\n",
    "hospice_df.shape"
   ]
  },
  {
   "cell_type": "code",
   "execution_count": 8,
   "metadata": {},
   "outputs": [
    {
     "data": {
      "text/html": [
       "<div>\n",
       "<style scoped>\n",
       "    .dataframe tbody tr th:only-of-type {\n",
       "        vertical-align: middle;\n",
       "    }\n",
       "\n",
       "    .dataframe tbody tr th {\n",
       "        vertical-align: top;\n",
       "    }\n",
       "\n",
       "    .dataframe thead th {\n",
       "        text-align: right;\n",
       "    }\n",
       "</style>\n",
       "<table border=\"1\" class=\"dataframe\">\n",
       "  <thead>\n",
       "    <tr style=\"text-align: right;\">\n",
       "      <th></th>\n",
       "      <th>County</th>\n",
       "      <th>FIPS</th>\n",
       "      <th>Met Healthy People Objective of 161.4?</th>\n",
       "      <th>Age-Adjusted Death Rate - deaths per 100,000</th>\n",
       "      <th>Lower 95% Confidence Interval</th>\n",
       "      <th>Upper 95% Confidence Interval</th>\n",
       "      <th>Average Annual Count</th>\n",
       "      <th>Recent Trend</th>\n",
       "      <th>Recent 5-Year Trend in Death Rates</th>\n",
       "      <th>Lower 95% Confidence Interval.1</th>\n",
       "      <th>Upper 95% Confidence Interval.1</th>\n",
       "    </tr>\n",
       "  </thead>\n",
       "  <tbody>\n",
       "    <tr>\n",
       "      <th>0</th>\n",
       "      <td>Tennessee</td>\n",
       "      <td>47999</td>\n",
       "      <td>No</td>\n",
       "      <td>185.4</td>\n",
       "      <td>184.0</td>\n",
       "      <td>186.8</td>\n",
       "      <td>13933</td>\n",
       "      <td>falling</td>\n",
       "      <td>-1.4</td>\n",
       "      <td>-1.5</td>\n",
       "      <td>-1.2</td>\n",
       "    </tr>\n",
       "    <tr>\n",
       "      <th>1</th>\n",
       "      <td>United States</td>\n",
       "      <td>0</td>\n",
       "      <td>No</td>\n",
       "      <td>163.5</td>\n",
       "      <td>163.3</td>\n",
       "      <td>163.7</td>\n",
       "      <td>586354</td>\n",
       "      <td>falling</td>\n",
       "      <td>-1.5</td>\n",
       "      <td>-1.6</td>\n",
       "      <td>-1.5</td>\n",
       "    </tr>\n",
       "    <tr>\n",
       "      <th>2</th>\n",
       "      <td>Trousdale County</td>\n",
       "      <td>47169</td>\n",
       "      <td>No</td>\n",
       "      <td>265.5</td>\n",
       "      <td>219.0</td>\n",
       "      <td>319.1</td>\n",
       "      <td>24</td>\n",
       "      <td>stable</td>\n",
       "      <td>0.0</td>\n",
       "      <td>-1.3</td>\n",
       "      <td>1.3</td>\n",
       "    </tr>\n",
       "    <tr>\n",
       "      <th>3</th>\n",
       "      <td>Scott County</td>\n",
       "      <td>47151</td>\n",
       "      <td>No</td>\n",
       "      <td>241.0</td>\n",
       "      <td>214.5</td>\n",
       "      <td>270.0</td>\n",
       "      <td>63</td>\n",
       "      <td>stable</td>\n",
       "      <td>-0.5</td>\n",
       "      <td>-1.1</td>\n",
       "      <td>0.1</td>\n",
       "    </tr>\n",
       "    <tr>\n",
       "      <th>4</th>\n",
       "      <td>Cheatham County</td>\n",
       "      <td>47021</td>\n",
       "      <td>No</td>\n",
       "      <td>239.6</td>\n",
       "      <td>217.8</td>\n",
       "      <td>263.0</td>\n",
       "      <td>97</td>\n",
       "      <td>stable</td>\n",
       "      <td>-0.6</td>\n",
       "      <td>-1.4</td>\n",
       "      <td>0.3</td>\n",
       "    </tr>\n",
       "  </tbody>\n",
       "</table>\n",
       "</div>"
      ],
      "text/plain": [
       "             County   FIPS Met Healthy People Objective of 161.4?  \\\n",
       "0         Tennessee  47999                                     No   \n",
       "1     United States      0                                     No   \n",
       "2  Trousdale County  47169                                     No   \n",
       "3      Scott County  47151                                     No   \n",
       "4   Cheatham County  47021                                     No   \n",
       "\n",
       "   Age-Adjusted Death Rate - deaths per 100,000  \\\n",
       "0                                         185.4   \n",
       "1                                         163.5   \n",
       "2                                         265.5   \n",
       "3                                         241.0   \n",
       "4                                         239.6   \n",
       "\n",
       "   Lower 95% Confidence Interval  Upper 95% Confidence Interval  \\\n",
       "0                          184.0                          186.8   \n",
       "1                          163.3                          163.7   \n",
       "2                          219.0                          319.1   \n",
       "3                          214.5                          270.0   \n",
       "4                          217.8                          263.0   \n",
       "\n",
       "   Average Annual Count Recent Trend  Recent 5-Year Trend in Death Rates  \\\n",
       "0                 13933      falling                                -1.4   \n",
       "1                586354      falling                                -1.5   \n",
       "2                    24       stable                                 0.0   \n",
       "3                    63       stable                                -0.5   \n",
       "4                    97       stable                                -0.6   \n",
       "\n",
       "   Lower 95% Confidence Interval.1  Upper 95% Confidence Interval.1  \n",
       "0                             -1.5                             -1.2  \n",
       "1                             -1.6                             -1.5  \n",
       "2                             -1.3                              1.3  \n",
       "3                             -1.1                              0.1  \n",
       "4                             -1.4                              0.3  "
      ]
     },
     "execution_count": 8,
     "metadata": {},
     "output_type": "execute_result"
    }
   ],
   "source": [
    "cancer_df = pd.read_csv('data/cancer_deaths.csv', skiprows= 4, nrows= 97)\n",
    "cancer_df.head()"
   ]
  },
  {
   "cell_type": "code",
   "execution_count": 9,
   "metadata": {},
   "outputs": [
    {
     "data": {
      "text/html": [
       "<div>\n",
       "<style scoped>\n",
       "    .dataframe tbody tr th:only-of-type {\n",
       "        vertical-align: middle;\n",
       "    }\n",
       "\n",
       "    .dataframe tbody tr th {\n",
       "        vertical-align: top;\n",
       "    }\n",
       "\n",
       "    .dataframe thead th {\n",
       "        text-align: right;\n",
       "    }\n",
       "</style>\n",
       "<table border=\"1\" class=\"dataframe\">\n",
       "  <thead>\n",
       "    <tr style=\"text-align: right;\">\n",
       "      <th></th>\n",
       "      <th>County</th>\n",
       "      <th>FIPS</th>\n",
       "      <th>Met Healthy People Objective of 161.4?</th>\n",
       "      <th>Age-Adjusted Death Rate - deaths per 100,000</th>\n",
       "      <th>Lower 95% Confidence Interval</th>\n",
       "      <th>Upper 95% Confidence Interval</th>\n",
       "      <th>Average Annual Count</th>\n",
       "      <th>Recent Trend</th>\n",
       "      <th>Recent 5-Year Trend in Death Rates</th>\n",
       "      <th>Lower 95% Confidence Interval.1</th>\n",
       "      <th>Upper 95% Confidence Interval.1</th>\n",
       "    </tr>\n",
       "  </thead>\n",
       "  <tbody>\n",
       "    <tr>\n",
       "      <th>92</th>\n",
       "      <td>Van Buren County</td>\n",
       "      <td>47175</td>\n",
       "      <td>Yes</td>\n",
       "      <td>160.3</td>\n",
       "      <td>122.7</td>\n",
       "      <td>207.4</td>\n",
       "      <td>14</td>\n",
       "      <td>stable</td>\n",
       "      <td>-0.9</td>\n",
       "      <td>-2.4</td>\n",
       "      <td>0.6</td>\n",
       "    </tr>\n",
       "    <tr>\n",
       "      <th>93</th>\n",
       "      <td>Pickett County</td>\n",
       "      <td>47137</td>\n",
       "      <td>Yes</td>\n",
       "      <td>158.7</td>\n",
       "      <td>123.3</td>\n",
       "      <td>203.9</td>\n",
       "      <td>15</td>\n",
       "      <td>stable</td>\n",
       "      <td>-0.5</td>\n",
       "      <td>-1.8</td>\n",
       "      <td>0.9</td>\n",
       "    </tr>\n",
       "    <tr>\n",
       "      <th>94</th>\n",
       "      <td>Fayette County</td>\n",
       "      <td>47047</td>\n",
       "      <td>Yes</td>\n",
       "      <td>154.3</td>\n",
       "      <td>139.1</td>\n",
       "      <td>170.7</td>\n",
       "      <td>81</td>\n",
       "      <td>falling</td>\n",
       "      <td>-1.4</td>\n",
       "      <td>-2.2</td>\n",
       "      <td>-0.5</td>\n",
       "    </tr>\n",
       "    <tr>\n",
       "      <th>95</th>\n",
       "      <td>Williamson County</td>\n",
       "      <td>47187</td>\n",
       "      <td>Yes</td>\n",
       "      <td>127.2</td>\n",
       "      <td>119.8</td>\n",
       "      <td>134.9</td>\n",
       "      <td>239</td>\n",
       "      <td>falling</td>\n",
       "      <td>-3.8</td>\n",
       "      <td>-4.8</td>\n",
       "      <td>-2.9</td>\n",
       "    </tr>\n",
       "    <tr>\n",
       "      <th>96</th>\n",
       "      <td>Moore County</td>\n",
       "      <td>47127</td>\n",
       "      <td>Yes</td>\n",
       "      <td>123.2</td>\n",
       "      <td>93.9</td>\n",
       "      <td>160.5</td>\n",
       "      <td>12</td>\n",
       "      <td>falling</td>\n",
       "      <td>-2.1</td>\n",
       "      <td>-3.8</td>\n",
       "      <td>-0.4</td>\n",
       "    </tr>\n",
       "  </tbody>\n",
       "</table>\n",
       "</div>"
      ],
      "text/plain": [
       "               County   FIPS Met Healthy People Objective of 161.4?  \\\n",
       "92   Van Buren County  47175                                    Yes   \n",
       "93     Pickett County  47137                                    Yes   \n",
       "94     Fayette County  47047                                    Yes   \n",
       "95  Williamson County  47187                                    Yes   \n",
       "96       Moore County  47127                                    Yes   \n",
       "\n",
       "    Age-Adjusted Death Rate - deaths per 100,000  \\\n",
       "92                                         160.3   \n",
       "93                                         158.7   \n",
       "94                                         154.3   \n",
       "95                                         127.2   \n",
       "96                                         123.2   \n",
       "\n",
       "    Lower 95% Confidence Interval  Upper 95% Confidence Interval  \\\n",
       "92                          122.7                          207.4   \n",
       "93                          123.3                          203.9   \n",
       "94                          139.1                          170.7   \n",
       "95                          119.8                          134.9   \n",
       "96                           93.9                          160.5   \n",
       "\n",
       "    Average Annual Count Recent Trend  Recent 5-Year Trend in Death Rates  \\\n",
       "92                    14       stable                                -0.9   \n",
       "93                    15       stable                                -0.5   \n",
       "94                    81      falling                                -1.4   \n",
       "95                   239      falling                                -3.8   \n",
       "96                    12      falling                                -2.1   \n",
       "\n",
       "    Lower 95% Confidence Interval.1  Upper 95% Confidence Interval.1  \n",
       "92                             -2.4                              0.6  \n",
       "93                             -1.8                              0.9  \n",
       "94                             -2.2                             -0.5  \n",
       "95                             -4.8                             -2.9  \n",
       "96                             -3.8                             -0.4  "
      ]
     },
     "execution_count": 9,
     "metadata": {},
     "output_type": "execute_result"
    }
   ],
   "source": [
    "cancer_df.tail()"
   ]
  },
  {
   "cell_type": "code",
   "execution_count": 10,
   "metadata": {},
   "outputs": [
    {
     "data": {
      "text/plain": [
       "(97, 11)"
      ]
     },
     "execution_count": 10,
     "metadata": {},
     "output_type": "execute_result"
    }
   ],
   "source": [
    "cancer_df.shape"
   ]
  },
  {
   "cell_type": "code",
   "execution_count": 11,
   "metadata": {},
   "outputs": [
    {
     "data": {
      "text/html": [
       "<div>\n",
       "<style scoped>\n",
       "    .dataframe tbody tr th:only-of-type {\n",
       "        vertical-align: middle;\n",
       "    }\n",
       "\n",
       "    .dataframe tbody tr th {\n",
       "        vertical-align: top;\n",
       "    }\n",
       "\n",
       "    .dataframe thead th {\n",
       "        text-align: right;\n",
       "    }\n",
       "</style>\n",
       "<table border=\"1\" class=\"dataframe\">\n",
       "  <thead>\n",
       "    <tr style=\"text-align: right;\">\n",
       "      <th></th>\n",
       "      <th>county</th>\n",
       "      <th>fips</th>\n",
       "      <th>healthy_people</th>\n",
       "      <th>death_rate_per_100K</th>\n",
       "      <th>lower_95_ci</th>\n",
       "      <th>upper_95_ci</th>\n",
       "      <th>avg_annual_count</th>\n",
       "      <th>recent_trend</th>\n",
       "      <th>recent_5year_trend</th>\n",
       "      <th>trend_lower_95_ci</th>\n",
       "      <th>trend_upper_95_ci</th>\n",
       "    </tr>\n",
       "  </thead>\n",
       "  <tbody>\n",
       "    <tr>\n",
       "      <th>0</th>\n",
       "      <td>Tennessee</td>\n",
       "      <td>47999</td>\n",
       "      <td>No</td>\n",
       "      <td>185.4</td>\n",
       "      <td>184.0</td>\n",
       "      <td>186.8</td>\n",
       "      <td>13933</td>\n",
       "      <td>falling</td>\n",
       "      <td>-1.4</td>\n",
       "      <td>-1.5</td>\n",
       "      <td>-1.2</td>\n",
       "    </tr>\n",
       "    <tr>\n",
       "      <th>1</th>\n",
       "      <td>United States</td>\n",
       "      <td>0</td>\n",
       "      <td>No</td>\n",
       "      <td>163.5</td>\n",
       "      <td>163.3</td>\n",
       "      <td>163.7</td>\n",
       "      <td>586354</td>\n",
       "      <td>falling</td>\n",
       "      <td>-1.5</td>\n",
       "      <td>-1.6</td>\n",
       "      <td>-1.5</td>\n",
       "    </tr>\n",
       "    <tr>\n",
       "      <th>2</th>\n",
       "      <td>Trousdale County</td>\n",
       "      <td>47169</td>\n",
       "      <td>No</td>\n",
       "      <td>265.5</td>\n",
       "      <td>219.0</td>\n",
       "      <td>319.1</td>\n",
       "      <td>24</td>\n",
       "      <td>stable</td>\n",
       "      <td>0.0</td>\n",
       "      <td>-1.3</td>\n",
       "      <td>1.3</td>\n",
       "    </tr>\n",
       "    <tr>\n",
       "      <th>3</th>\n",
       "      <td>Scott County</td>\n",
       "      <td>47151</td>\n",
       "      <td>No</td>\n",
       "      <td>241.0</td>\n",
       "      <td>214.5</td>\n",
       "      <td>270.0</td>\n",
       "      <td>63</td>\n",
       "      <td>stable</td>\n",
       "      <td>-0.5</td>\n",
       "      <td>-1.1</td>\n",
       "      <td>0.1</td>\n",
       "    </tr>\n",
       "    <tr>\n",
       "      <th>4</th>\n",
       "      <td>Cheatham County</td>\n",
       "      <td>47021</td>\n",
       "      <td>No</td>\n",
       "      <td>239.6</td>\n",
       "      <td>217.8</td>\n",
       "      <td>263.0</td>\n",
       "      <td>97</td>\n",
       "      <td>stable</td>\n",
       "      <td>-0.6</td>\n",
       "      <td>-1.4</td>\n",
       "      <td>0.3</td>\n",
       "    </tr>\n",
       "  </tbody>\n",
       "</table>\n",
       "</div>"
      ],
      "text/plain": [
       "             county   fips healthy_people  death_rate_per_100K  lower_95_ci  \\\n",
       "0         Tennessee  47999             No                185.4        184.0   \n",
       "1     United States      0             No                163.5        163.3   \n",
       "2  Trousdale County  47169             No                265.5        219.0   \n",
       "3      Scott County  47151             No                241.0        214.5   \n",
       "4   Cheatham County  47021             No                239.6        217.8   \n",
       "\n",
       "   upper_95_ci  avg_annual_count recent_trend  recent_5year_trend  \\\n",
       "0        186.8             13933      falling                -1.4   \n",
       "1        163.7            586354      falling                -1.5   \n",
       "2        319.1                24       stable                 0.0   \n",
       "3        270.0                63       stable                -0.5   \n",
       "4        263.0                97       stable                -0.6   \n",
       "\n",
       "   trend_lower_95_ci  trend_upper_95_ci  \n",
       "0               -1.5               -1.2  \n",
       "1               -1.6               -1.5  \n",
       "2               -1.3                1.3  \n",
       "3               -1.1                0.1  \n",
       "4               -1.4                0.3  "
      ]
     },
     "execution_count": 11,
     "metadata": {},
     "output_type": "execute_result"
    }
   ],
   "source": [
    "cancer_df.columns = ['county', 'fips', 'healthy_people', 'death_rate_per_100K', \n",
    "                  'lower_95_ci', 'upper_95_ci', 'avg_annual_count', 'recent_trend', \n",
    "                  'recent_5year_trend', 'trend_lower_95_ci', 'trend_upper_95_ci']\n",
    "cancer_df.head()"
   ]
  },
  {
   "cell_type": "code",
   "execution_count": null,
   "metadata": {
    "scrolled": false
   },
   "outputs": [],
   "source": [
    "pop_df = pd.read_csv('data/PEP_2017_PEPAGESEX.csv', skiprows = 1)\n",
    "pop_df.head()"
   ]
  },
  {
   "cell_type": "code",
   "execution_count": 13,
   "metadata": {},
   "outputs": [
    {
     "data": {
      "text/plain": [
       "(95, 993)"
      ]
     },
     "execution_count": 13,
     "metadata": {},
     "output_type": "execute_result"
    }
   ],
   "source": [
    "pop_df.shape"
   ]
  },
  {
   "cell_type": "code",
   "execution_count": 14,
   "metadata": {},
   "outputs": [],
   "source": [
    "pop_april = [col for col in pop_df.columns if col.startswith(\"April\")]"
   ]
  },
  {
   "cell_type": "code",
   "execution_count": null,
   "metadata": {
    "scrolled": true
   },
   "outputs": [],
   "source": [
    "pop_clean = pop_df.drop(pop_april, axis = 1)\n",
    "pop_clean.head()"
   ]
  },
  {
   "cell_type": "code",
   "execution_count": null,
   "metadata": {
    "scrolled": false
   },
   "outputs": [],
   "source": [
    "pop_male = [col for col in pop_clean.columns if \"Male\" in col]\n",
    "pop_clean = pop_clean.drop(pop_male, axis = 1)\n",
    "pop_clean.head()"
   ]
  },
  {
   "cell_type": "code",
   "execution_count": null,
   "metadata": {
    "scrolled": true
   },
   "outputs": [],
   "source": [
    "pop_female = [col for col in pop_clean.columns if \"Female\" in col]\n",
    "pop_clean = pop_clean.drop(pop_female, axis = 1)\n",
    "pop_clean.head()"
   ]
  },
  {
   "cell_type": "code",
   "execution_count": null,
   "metadata": {
    "scrolled": false
   },
   "outputs": [],
   "source": [
    "list(pop_clean.columns)"
   ]
  },
  {
   "cell_type": "code",
   "execution_count": 19,
   "metadata": {},
   "outputs": [],
   "source": [
    "pop_2011 = [col for col in pop_clean.columns if \"2011\" in col]\n",
    "pop_clean = pop_clean.drop(pop_2011, axis = 1)\n",
    "\n"
   ]
  },
  {
   "cell_type": "code",
   "execution_count": 20,
   "metadata": {},
   "outputs": [],
   "source": [
    "pop_2012 = [col for col in pop_clean.columns if \"2012\" in col]\n",
    "pop_clean = pop_clean.drop(pop_2012, axis = 1)"
   ]
  },
  {
   "cell_type": "code",
   "execution_count": 21,
   "metadata": {},
   "outputs": [],
   "source": [
    "pop_2013 = [col for col in pop_clean.columns if \"2013\" in col]\n",
    "pop_clean = pop_clean.drop(pop_2013, axis = 1)"
   ]
  },
  {
   "cell_type": "code",
   "execution_count": 22,
   "metadata": {},
   "outputs": [],
   "source": [
    "pop_2015 = [col for col in pop_clean.columns if \"2015\" in col]\n",
    "pop_clean = pop_clean.drop(pop_2015, axis = 1)"
   ]
  },
  {
   "cell_type": "code",
   "execution_count": 23,
   "metadata": {},
   "outputs": [],
   "source": [
    "pop_2016 = [col for col in pop_clean.columns if \"2016\" in col]\n",
    "pop_clean = pop_clean.drop(pop_2016, axis = 1)"
   ]
  },
  {
   "cell_type": "code",
   "execution_count": null,
   "metadata": {
    "scrolled": true
   },
   "outputs": [],
   "source": [
    "pop_clean.head()"
   ]
  },
  {
   "cell_type": "code",
   "execution_count": 25,
   "metadata": {},
   "outputs": [
    {
     "data": {
      "text/plain": [
       "['Id',\n",
       " 'Id2',\n",
       " 'Geography',\n",
       " 'Population Estimate (as of July 1) - 2010 - Both Sexes; Total',\n",
       " 'Population Estimate (as of July 1) - 2014 - Both Sexes; Total',\n",
       " 'Population Estimate (as of July 1) - 2017 - Both Sexes; Total',\n",
       " 'Population Estimate (as of July 1) - 2010 - Both Sexes; Total - Under 5 years',\n",
       " 'Population Estimate (as of July 1) - 2014 - Both Sexes; Total - Under 5 years',\n",
       " 'Population Estimate (as of July 1) - 2017 - Both Sexes; Total - Under 5 years',\n",
       " 'Population Estimate (as of July 1) - 2010 - Both Sexes; Total - 5 to 9 years',\n",
       " 'Population Estimate (as of July 1) - 2014 - Both Sexes; Total - 5 to 9 years',\n",
       " 'Population Estimate (as of July 1) - 2017 - Both Sexes; Total - 5 to 9 years',\n",
       " 'Population Estimate (as of July 1) - 2010 - Both Sexes; Total - 10 to 14 years',\n",
       " 'Population Estimate (as of July 1) - 2014 - Both Sexes; Total - 10 to 14 years',\n",
       " 'Population Estimate (as of July 1) - 2017 - Both Sexes; Total - 10 to 14 years',\n",
       " 'Population Estimate (as of July 1) - 2010 - Both Sexes; Total - 15 to 19 years',\n",
       " 'Population Estimate (as of July 1) - 2014 - Both Sexes; Total - 15 to 19 years',\n",
       " 'Population Estimate (as of July 1) - 2017 - Both Sexes; Total - 15 to 19 years',\n",
       " 'Population Estimate (as of July 1) - 2010 - Both Sexes; Total - 20 to 24 years',\n",
       " 'Population Estimate (as of July 1) - 2014 - Both Sexes; Total - 20 to 24 years',\n",
       " 'Population Estimate (as of July 1) - 2017 - Both Sexes; Total - 20 to 24 years',\n",
       " 'Population Estimate (as of July 1) - 2010 - Both Sexes; Total - 25 to 29 years',\n",
       " 'Population Estimate (as of July 1) - 2014 - Both Sexes; Total - 25 to 29 years',\n",
       " 'Population Estimate (as of July 1) - 2017 - Both Sexes; Total - 25 to 29 years',\n",
       " 'Population Estimate (as of July 1) - 2010 - Both Sexes; Total - 30 to 34 years',\n",
       " 'Population Estimate (as of July 1) - 2014 - Both Sexes; Total - 30 to 34 years',\n",
       " 'Population Estimate (as of July 1) - 2017 - Both Sexes; Total - 30 to 34 years',\n",
       " 'Population Estimate (as of July 1) - 2010 - Both Sexes; Total - 35 to 39 years',\n",
       " 'Population Estimate (as of July 1) - 2014 - Both Sexes; Total - 35 to 39 years',\n",
       " 'Population Estimate (as of July 1) - 2017 - Both Sexes; Total - 35 to 39 years',\n",
       " 'Population Estimate (as of July 1) - 2010 - Both Sexes; Total - 40 to 44 years',\n",
       " 'Population Estimate (as of July 1) - 2014 - Both Sexes; Total - 40 to 44 years',\n",
       " 'Population Estimate (as of July 1) - 2017 - Both Sexes; Total - 40 to 44 years',\n",
       " 'Population Estimate (as of July 1) - 2010 - Both Sexes; Total - 45 to 49 years',\n",
       " 'Population Estimate (as of July 1) - 2014 - Both Sexes; Total - 45 to 49 years',\n",
       " 'Population Estimate (as of July 1) - 2017 - Both Sexes; Total - 45 to 49 years',\n",
       " 'Population Estimate (as of July 1) - 2010 - Both Sexes; Total - 50 to 54 years',\n",
       " 'Population Estimate (as of July 1) - 2014 - Both Sexes; Total - 50 to 54 years',\n",
       " 'Population Estimate (as of July 1) - 2017 - Both Sexes; Total - 50 to 54 years',\n",
       " 'Population Estimate (as of July 1) - 2010 - Both Sexes; Total - 55 to 59 years',\n",
       " 'Population Estimate (as of July 1) - 2014 - Both Sexes; Total - 55 to 59 years',\n",
       " 'Population Estimate (as of July 1) - 2017 - Both Sexes; Total - 55 to 59 years',\n",
       " 'Population Estimate (as of July 1) - 2010 - Both Sexes; Total - 60 to 64 years',\n",
       " 'Population Estimate (as of July 1) - 2014 - Both Sexes; Total - 60 to 64 years',\n",
       " 'Population Estimate (as of July 1) - 2017 - Both Sexes; Total - 60 to 64 years',\n",
       " 'Population Estimate (as of July 1) - 2010 - Both Sexes; Total - 65 to 69 years',\n",
       " 'Population Estimate (as of July 1) - 2014 - Both Sexes; Total - 65 to 69 years',\n",
       " 'Population Estimate (as of July 1) - 2017 - Both Sexes; Total - 65 to 69 years',\n",
       " 'Population Estimate (as of July 1) - 2010 - Both Sexes; Total - 70 to 74 years',\n",
       " 'Population Estimate (as of July 1) - 2014 - Both Sexes; Total - 70 to 74 years',\n",
       " 'Population Estimate (as of July 1) - 2017 - Both Sexes; Total - 70 to 74 years',\n",
       " 'Population Estimate (as of July 1) - 2010 - Both Sexes; Total - 75 to 79 years',\n",
       " 'Population Estimate (as of July 1) - 2014 - Both Sexes; Total - 75 to 79 years',\n",
       " 'Population Estimate (as of July 1) - 2017 - Both Sexes; Total - 75 to 79 years',\n",
       " 'Population Estimate (as of July 1) - 2010 - Both Sexes; Total - 80 to 84 years',\n",
       " 'Population Estimate (as of July 1) - 2014 - Both Sexes; Total - 80 to 84 years',\n",
       " 'Population Estimate (as of July 1) - 2017 - Both Sexes; Total - 80 to 84 years',\n",
       " 'Population Estimate (as of July 1) - 2010 - Both Sexes; Total - 85 years and over',\n",
       " 'Population Estimate (as of July 1) - 2014 - Both Sexes; Total - 85 years and over',\n",
       " 'Population Estimate (as of July 1) - 2017 - Both Sexes; Total - 85 years and over',\n",
       " 'Population Estimate (as of July 1) - 2010 - Both Sexes; Under 18 years',\n",
       " 'Population Estimate (as of July 1) - 2014 - Both Sexes; Under 18 years',\n",
       " 'Population Estimate (as of July 1) - 2017 - Both Sexes; Under 18 years',\n",
       " 'Population Estimate (as of July 1) - 2010 - Both Sexes; Under 18 years - Under 5 years',\n",
       " 'Population Estimate (as of July 1) - 2014 - Both Sexes; Under 18 years - Under 5 years',\n",
       " 'Population Estimate (as of July 1) - 2017 - Both Sexes; Under 18 years - Under 5 years',\n",
       " 'Population Estimate (as of July 1) - 2010 - Both Sexes; Under 18 years - 5 to 13 years',\n",
       " 'Population Estimate (as of July 1) - 2014 - Both Sexes; Under 18 years - 5 to 13 years',\n",
       " 'Population Estimate (as of July 1) - 2017 - Both Sexes; Under 18 years - 5 to 13 years',\n",
       " 'Population Estimate (as of July 1) - 2010 - Both Sexes; Under 18 years - 14 to 17 years',\n",
       " 'Population Estimate (as of July 1) - 2014 - Both Sexes; Under 18 years - 14 to 17 years',\n",
       " 'Population Estimate (as of July 1) - 2017 - Both Sexes; Under 18 years - 14 to 17 years',\n",
       " 'Population Estimate (as of July 1) - 2010 - Both Sexes; 18 to 64 years',\n",
       " 'Population Estimate (as of July 1) - 2014 - Both Sexes; 18 to 64 years',\n",
       " 'Population Estimate (as of July 1) - 2017 - Both Sexes; 18 to 64 years',\n",
       " 'Population Estimate (as of July 1) - 2010 - Both Sexes; 18 to 64 years - 18 to 24 years',\n",
       " 'Population Estimate (as of July 1) - 2014 - Both Sexes; 18 to 64 years - 18 to 24 years',\n",
       " 'Population Estimate (as of July 1) - 2017 - Both Sexes; 18 to 64 years - 18 to 24 years',\n",
       " 'Population Estimate (as of July 1) - 2010 - Both Sexes; 18 to 64 years - 25 to 44 years',\n",
       " 'Population Estimate (as of July 1) - 2014 - Both Sexes; 18 to 64 years - 25 to 44 years',\n",
       " 'Population Estimate (as of July 1) - 2017 - Both Sexes; 18 to 64 years - 25 to 44 years',\n",
       " 'Population Estimate (as of July 1) - 2010 - Both Sexes; 18 to 64 years - 45 to 64 years',\n",
       " 'Population Estimate (as of July 1) - 2014 - Both Sexes; 18 to 64 years - 45 to 64 years',\n",
       " 'Population Estimate (as of July 1) - 2017 - Both Sexes; 18 to 64 years - 45 to 64 years',\n",
       " 'Population Estimate (as of July 1) - 2010 - Both Sexes; 65 years and over',\n",
       " 'Population Estimate (as of July 1) - 2014 - Both Sexes; 65 years and over',\n",
       " 'Population Estimate (as of July 1) - 2017 - Both Sexes; 65 years and over',\n",
       " 'Population Estimate (as of July 1) - 2010 - Both Sexes; 85 years and over',\n",
       " 'Population Estimate (as of July 1) - 2014 - Both Sexes; 85 years and over',\n",
       " 'Population Estimate (as of July 1) - 2017 - Both Sexes; 85 years and over',\n",
       " 'Population Estimate (as of July 1) - 2010 - Both Sexes; 16 years and over',\n",
       " 'Population Estimate (as of July 1) - 2014 - Both Sexes; 16 years and over',\n",
       " 'Population Estimate (as of July 1) - 2017 - Both Sexes; 16 years and over',\n",
       " 'Population Estimate (as of July 1) - 2010 - Both Sexes; 18 years and over',\n",
       " 'Population Estimate (as of July 1) - 2014 - Both Sexes; 18 years and over',\n",
       " 'Population Estimate (as of July 1) - 2017 - Both Sexes; 18 years and over',\n",
       " 'Population Estimate (as of July 1) - 2010 - Both Sexes; 15 to 44 years',\n",
       " 'Population Estimate (as of July 1) - 2014 - Both Sexes; 15 to 44 years',\n",
       " 'Population Estimate (as of July 1) - 2017 - Both Sexes; 15 to 44 years',\n",
       " 'Population Estimate (as of July 1) - 2010 - Both Sexes; Median age (years)',\n",
       " 'Population Estimate (as of July 1) - 2014 - Both Sexes; Median age (years)',\n",
       " 'Population Estimate (as of July 1) - 2017 - Both Sexes; Median age (years)']"
      ]
     },
     "execution_count": 25,
     "metadata": {},
     "output_type": "execute_result"
    }
   ],
   "source": [
    "list(pop_clean.columns)"
   ]
  },
  {
   "cell_type": "code",
   "execution_count": null,
   "metadata": {
    "scrolled": true
   },
   "outputs": [],
   "source": [
    "pop_under = [col for col in pop_clean.columns if \"oth Sexes; Under\" in col]\n",
    "pop_clean = pop_clean.drop(pop_under, axis = 1)\n",
    "pop_clean.head()"
   ]
  },
  {
   "cell_type": "code",
   "execution_count": 27,
   "metadata": {},
   "outputs": [
    {
     "data": {
      "text/plain": [
       "['Id',\n",
       " 'Id2',\n",
       " 'Geography',\n",
       " 'Population Estimate (as of July 1) - 2010 - Both Sexes; Total',\n",
       " 'Population Estimate (as of July 1) - 2014 - Both Sexes; Total',\n",
       " 'Population Estimate (as of July 1) - 2017 - Both Sexes; Total',\n",
       " 'Population Estimate (as of July 1) - 2010 - Both Sexes; Total - Under 5 years',\n",
       " 'Population Estimate (as of July 1) - 2014 - Both Sexes; Total - Under 5 years',\n",
       " 'Population Estimate (as of July 1) - 2017 - Both Sexes; Total - Under 5 years',\n",
       " 'Population Estimate (as of July 1) - 2010 - Both Sexes; Total - 5 to 9 years',\n",
       " 'Population Estimate (as of July 1) - 2014 - Both Sexes; Total - 5 to 9 years',\n",
       " 'Population Estimate (as of July 1) - 2017 - Both Sexes; Total - 5 to 9 years',\n",
       " 'Population Estimate (as of July 1) - 2010 - Both Sexes; Total - 10 to 14 years',\n",
       " 'Population Estimate (as of July 1) - 2014 - Both Sexes; Total - 10 to 14 years',\n",
       " 'Population Estimate (as of July 1) - 2017 - Both Sexes; Total - 10 to 14 years',\n",
       " 'Population Estimate (as of July 1) - 2010 - Both Sexes; Total - 15 to 19 years',\n",
       " 'Population Estimate (as of July 1) - 2014 - Both Sexes; Total - 15 to 19 years',\n",
       " 'Population Estimate (as of July 1) - 2017 - Both Sexes; Total - 15 to 19 years',\n",
       " 'Population Estimate (as of July 1) - 2010 - Both Sexes; Total - 20 to 24 years',\n",
       " 'Population Estimate (as of July 1) - 2014 - Both Sexes; Total - 20 to 24 years',\n",
       " 'Population Estimate (as of July 1) - 2017 - Both Sexes; Total - 20 to 24 years',\n",
       " 'Population Estimate (as of July 1) - 2010 - Both Sexes; Total - 25 to 29 years',\n",
       " 'Population Estimate (as of July 1) - 2014 - Both Sexes; Total - 25 to 29 years',\n",
       " 'Population Estimate (as of July 1) - 2017 - Both Sexes; Total - 25 to 29 years',\n",
       " 'Population Estimate (as of July 1) - 2010 - Both Sexes; Total - 30 to 34 years',\n",
       " 'Population Estimate (as of July 1) - 2014 - Both Sexes; Total - 30 to 34 years',\n",
       " 'Population Estimate (as of July 1) - 2017 - Both Sexes; Total - 30 to 34 years',\n",
       " 'Population Estimate (as of July 1) - 2010 - Both Sexes; Total - 35 to 39 years',\n",
       " 'Population Estimate (as of July 1) - 2014 - Both Sexes; Total - 35 to 39 years',\n",
       " 'Population Estimate (as of July 1) - 2017 - Both Sexes; Total - 35 to 39 years',\n",
       " 'Population Estimate (as of July 1) - 2010 - Both Sexes; Total - 40 to 44 years',\n",
       " 'Population Estimate (as of July 1) - 2014 - Both Sexes; Total - 40 to 44 years',\n",
       " 'Population Estimate (as of July 1) - 2017 - Both Sexes; Total - 40 to 44 years',\n",
       " 'Population Estimate (as of July 1) - 2010 - Both Sexes; Total - 45 to 49 years',\n",
       " 'Population Estimate (as of July 1) - 2014 - Both Sexes; Total - 45 to 49 years',\n",
       " 'Population Estimate (as of July 1) - 2017 - Both Sexes; Total - 45 to 49 years',\n",
       " 'Population Estimate (as of July 1) - 2010 - Both Sexes; Total - 50 to 54 years',\n",
       " 'Population Estimate (as of July 1) - 2014 - Both Sexes; Total - 50 to 54 years',\n",
       " 'Population Estimate (as of July 1) - 2017 - Both Sexes; Total - 50 to 54 years',\n",
       " 'Population Estimate (as of July 1) - 2010 - Both Sexes; Total - 55 to 59 years',\n",
       " 'Population Estimate (as of July 1) - 2014 - Both Sexes; Total - 55 to 59 years',\n",
       " 'Population Estimate (as of July 1) - 2017 - Both Sexes; Total - 55 to 59 years',\n",
       " 'Population Estimate (as of July 1) - 2010 - Both Sexes; Total - 60 to 64 years',\n",
       " 'Population Estimate (as of July 1) - 2014 - Both Sexes; Total - 60 to 64 years',\n",
       " 'Population Estimate (as of July 1) - 2017 - Both Sexes; Total - 60 to 64 years',\n",
       " 'Population Estimate (as of July 1) - 2010 - Both Sexes; Total - 65 to 69 years',\n",
       " 'Population Estimate (as of July 1) - 2014 - Both Sexes; Total - 65 to 69 years',\n",
       " 'Population Estimate (as of July 1) - 2017 - Both Sexes; Total - 65 to 69 years',\n",
       " 'Population Estimate (as of July 1) - 2010 - Both Sexes; Total - 70 to 74 years',\n",
       " 'Population Estimate (as of July 1) - 2014 - Both Sexes; Total - 70 to 74 years',\n",
       " 'Population Estimate (as of July 1) - 2017 - Both Sexes; Total - 70 to 74 years',\n",
       " 'Population Estimate (as of July 1) - 2010 - Both Sexes; Total - 75 to 79 years',\n",
       " 'Population Estimate (as of July 1) - 2014 - Both Sexes; Total - 75 to 79 years',\n",
       " 'Population Estimate (as of July 1) - 2017 - Both Sexes; Total - 75 to 79 years',\n",
       " 'Population Estimate (as of July 1) - 2010 - Both Sexes; Total - 80 to 84 years',\n",
       " 'Population Estimate (as of July 1) - 2014 - Both Sexes; Total - 80 to 84 years',\n",
       " 'Population Estimate (as of July 1) - 2017 - Both Sexes; Total - 80 to 84 years',\n",
       " 'Population Estimate (as of July 1) - 2010 - Both Sexes; Total - 85 years and over',\n",
       " 'Population Estimate (as of July 1) - 2014 - Both Sexes; Total - 85 years and over',\n",
       " 'Population Estimate (as of July 1) - 2017 - Both Sexes; Total - 85 years and over',\n",
       " 'Population Estimate (as of July 1) - 2010 - Both Sexes; 18 to 64 years',\n",
       " 'Population Estimate (as of July 1) - 2014 - Both Sexes; 18 to 64 years',\n",
       " 'Population Estimate (as of July 1) - 2017 - Both Sexes; 18 to 64 years',\n",
       " 'Population Estimate (as of July 1) - 2010 - Both Sexes; 18 to 64 years - 18 to 24 years',\n",
       " 'Population Estimate (as of July 1) - 2014 - Both Sexes; 18 to 64 years - 18 to 24 years',\n",
       " 'Population Estimate (as of July 1) - 2017 - Both Sexes; 18 to 64 years - 18 to 24 years',\n",
       " 'Population Estimate (as of July 1) - 2010 - Both Sexes; 18 to 64 years - 25 to 44 years',\n",
       " 'Population Estimate (as of July 1) - 2014 - Both Sexes; 18 to 64 years - 25 to 44 years',\n",
       " 'Population Estimate (as of July 1) - 2017 - Both Sexes; 18 to 64 years - 25 to 44 years',\n",
       " 'Population Estimate (as of July 1) - 2010 - Both Sexes; 18 to 64 years - 45 to 64 years',\n",
       " 'Population Estimate (as of July 1) - 2014 - Both Sexes; 18 to 64 years - 45 to 64 years',\n",
       " 'Population Estimate (as of July 1) - 2017 - Both Sexes; 18 to 64 years - 45 to 64 years',\n",
       " 'Population Estimate (as of July 1) - 2010 - Both Sexes; 65 years and over',\n",
       " 'Population Estimate (as of July 1) - 2014 - Both Sexes; 65 years and over',\n",
       " 'Population Estimate (as of July 1) - 2017 - Both Sexes; 65 years and over',\n",
       " 'Population Estimate (as of July 1) - 2010 - Both Sexes; 85 years and over',\n",
       " 'Population Estimate (as of July 1) - 2014 - Both Sexes; 85 years and over',\n",
       " 'Population Estimate (as of July 1) - 2017 - Both Sexes; 85 years and over',\n",
       " 'Population Estimate (as of July 1) - 2010 - Both Sexes; 16 years and over',\n",
       " 'Population Estimate (as of July 1) - 2014 - Both Sexes; 16 years and over',\n",
       " 'Population Estimate (as of July 1) - 2017 - Both Sexes; 16 years and over',\n",
       " 'Population Estimate (as of July 1) - 2010 - Both Sexes; 18 years and over',\n",
       " 'Population Estimate (as of July 1) - 2014 - Both Sexes; 18 years and over',\n",
       " 'Population Estimate (as of July 1) - 2017 - Both Sexes; 18 years and over',\n",
       " 'Population Estimate (as of July 1) - 2010 - Both Sexes; 15 to 44 years',\n",
       " 'Population Estimate (as of July 1) - 2014 - Both Sexes; 15 to 44 years',\n",
       " 'Population Estimate (as of July 1) - 2017 - Both Sexes; 15 to 44 years',\n",
       " 'Population Estimate (as of July 1) - 2010 - Both Sexes; Median age (years)',\n",
       " 'Population Estimate (as of July 1) - 2014 - Both Sexes; Median age (years)',\n",
       " 'Population Estimate (as of July 1) - 2017 - Both Sexes; Median age (years)']"
      ]
     },
     "execution_count": 27,
     "metadata": {},
     "output_type": "execute_result"
    }
   ],
   "source": [
    "list(pop_clean.columns)"
   ]
  },
  {
   "cell_type": "code",
   "execution_count": 28,
   "metadata": {},
   "outputs": [],
   "source": [
    "pop_31 = pop_clean.filter(items = ['Geography',\n",
    " 'Population Estimate (as of July 1) - 2010 - Both Sexes; Total',\n",
    " 'Population Estimate (as of July 1) - 2014 - Both Sexes; Total',\n",
    " 'Population Estimate (as of July 1) - 2017 - Both Sexes; Total','Population Estimate (as of July 1) - 2010 - Both Sexes; Total - 50 to 54 years',\n",
    " 'Population Estimate (as of July 1) - 2014 - Both Sexes; Total - 50 to 54 years',\n",
    " 'Population Estimate (as of July 1) - 2017 - Both Sexes; Total - 50 to 54 years',\n",
    " 'Population Estimate (as of July 1) - 2010 - Both Sexes; Total - 55 to 59 years',\n",
    " 'Population Estimate (as of July 1) - 2014 - Both Sexes; Total - 55 to 59 years',\n",
    " 'Population Estimate (as of July 1) - 2017 - Both Sexes; Total - 55 to 59 years',\n",
    " 'Population Estimate (as of July 1) - 2010 - Both Sexes; Total - 60 to 64 years',\n",
    " 'Population Estimate (as of July 1) - 2014 - Both Sexes; Total - 60 to 64 years',\n",
    " 'Population Estimate (as of July 1) - 2017 - Both Sexes; Total - 60 to 64 years',\n",
    " 'Population Estimate (as of July 1) - 2010 - Both Sexes; Total - 65 to 69 years',\n",
    " 'Population Estimate (as of July 1) - 2014 - Both Sexes; Total - 65 to 69 years',\n",
    " 'Population Estimate (as of July 1) - 2017 - Both Sexes; Total - 65 to 69 years',\n",
    " 'Population Estimate (as of July 1) - 2010 - Both Sexes; Total - 70 to 74 years',\n",
    " 'Population Estimate (as of July 1) - 2014 - Both Sexes; Total - 70 to 74 years',\n",
    " 'Population Estimate (as of July 1) - 2017 - Both Sexes; Total - 70 to 74 years',\n",
    " 'Population Estimate (as of July 1) - 2010 - Both Sexes; Total - 75 to 79 years',\n",
    " 'Population Estimate (as of July 1) - 2014 - Both Sexes; Total - 75 to 79 years',\n",
    " 'Population Estimate (as of July 1) - 2017 - Both Sexes; Total - 75 to 79 years',\n",
    " 'Population Estimate (as of July 1) - 2010 - Both Sexes; Total - 80 to 84 years',\n",
    " 'Population Estimate (as of July 1) - 2014 - Both Sexes; Total - 80 to 84 years',\n",
    " 'Population Estimate (as of July 1) - 2017 - Both Sexes; Total - 80 to 84 years',\n",
    " 'Population Estimate (as of July 1) - 2010 - Both Sexes; Total - 85 years and over',\n",
    " 'Population Estimate (as of July 1) - 2014 - Both Sexes; Total - 85 years and over',\n",
    " 'Population Estimate (as of July 1) - 2017 - Both Sexes; Total - 85 years and over','Population Estimate (as of July 1) - 2010 - Both Sexes; Median age (years)',\n",
    " 'Population Estimate (as of July 1) - 2014 - Both Sexes; Median age (years)',\n",
    " 'Population Estimate (as of July 1) - 2017 - Both Sexes; Median age (years)'])"
   ]
  },
  {
   "cell_type": "code",
   "execution_count": null,
   "metadata": {
    "scrolled": true
   },
   "outputs": [],
   "source": [
    "pop_31.head()"
   ]
  },
  {
   "cell_type": "code",
   "execution_count": 30,
   "metadata": {},
   "outputs": [
    {
     "data": {
      "text/plain": [
       "['Geography',\n",
       " 'Population Estimate (as of July 1) - 2010 - Both Sexes; Total',\n",
       " 'Population Estimate (as of July 1) - 2014 - Both Sexes; Total',\n",
       " 'Population Estimate (as of July 1) - 2017 - Both Sexes; Total',\n",
       " 'Population Estimate (as of July 1) - 2010 - Both Sexes; Total - 50 to 54 years',\n",
       " 'Population Estimate (as of July 1) - 2014 - Both Sexes; Total - 50 to 54 years',\n",
       " 'Population Estimate (as of July 1) - 2017 - Both Sexes; Total - 50 to 54 years',\n",
       " 'Population Estimate (as of July 1) - 2010 - Both Sexes; Total - 55 to 59 years',\n",
       " 'Population Estimate (as of July 1) - 2014 - Both Sexes; Total - 55 to 59 years',\n",
       " 'Population Estimate (as of July 1) - 2017 - Both Sexes; Total - 55 to 59 years',\n",
       " 'Population Estimate (as of July 1) - 2010 - Both Sexes; Total - 60 to 64 years',\n",
       " 'Population Estimate (as of July 1) - 2014 - Both Sexes; Total - 60 to 64 years',\n",
       " 'Population Estimate (as of July 1) - 2017 - Both Sexes; Total - 60 to 64 years',\n",
       " 'Population Estimate (as of July 1) - 2010 - Both Sexes; Total - 65 to 69 years',\n",
       " 'Population Estimate (as of July 1) - 2014 - Both Sexes; Total - 65 to 69 years',\n",
       " 'Population Estimate (as of July 1) - 2017 - Both Sexes; Total - 65 to 69 years',\n",
       " 'Population Estimate (as of July 1) - 2010 - Both Sexes; Total - 70 to 74 years',\n",
       " 'Population Estimate (as of July 1) - 2014 - Both Sexes; Total - 70 to 74 years',\n",
       " 'Population Estimate (as of July 1) - 2017 - Both Sexes; Total - 70 to 74 years',\n",
       " 'Population Estimate (as of July 1) - 2010 - Both Sexes; Total - 75 to 79 years',\n",
       " 'Population Estimate (as of July 1) - 2014 - Both Sexes; Total - 75 to 79 years',\n",
       " 'Population Estimate (as of July 1) - 2017 - Both Sexes; Total - 75 to 79 years',\n",
       " 'Population Estimate (as of July 1) - 2010 - Both Sexes; Total - 80 to 84 years',\n",
       " 'Population Estimate (as of July 1) - 2014 - Both Sexes; Total - 80 to 84 years',\n",
       " 'Population Estimate (as of July 1) - 2017 - Both Sexes; Total - 80 to 84 years',\n",
       " 'Population Estimate (as of July 1) - 2010 - Both Sexes; Total - 85 years and over',\n",
       " 'Population Estimate (as of July 1) - 2014 - Both Sexes; Total - 85 years and over',\n",
       " 'Population Estimate (as of July 1) - 2017 - Both Sexes; Total - 85 years and over',\n",
       " 'Population Estimate (as of July 1) - 2010 - Both Sexes; Median age (years)',\n",
       " 'Population Estimate (as of July 1) - 2014 - Both Sexes; Median age (years)',\n",
       " 'Population Estimate (as of July 1) - 2017 - Both Sexes; Median age (years)']"
      ]
     },
     "execution_count": 30,
     "metadata": {},
     "output_type": "execute_result"
    }
   ],
   "source": [
    "list(pop_31.columns)"
   ]
  },
  {
   "cell_type": "code",
   "execution_count": null,
   "metadata": {
    "scrolled": true
   },
   "outputs": [],
   "source": [
    "pop_31.columns = ['county', 'pop2010all', 'pop2014all', 'pop2017all', 'pop2010_50to54','pop2014_50to54', 'pop2017_50to54', 'pop2010_55to59', 'pop2014_55to59', 'pop2017_55to59', 'pop2010_60to64', 'pop2014_60to64', 'pop2017_60to64',\n",
    "    'pop2010_65to69', 'pop2014_65to69', 'pop2017_65to69', 'pop2010_70to74', 'pop2014_70to74', 'pop2017_70to74', 'pop2010_75to79', 'pop2014_75to79', 'pop2017_75to79', 'pop2010_80to84', 'pop2014_80to84', 'pop2017_80to84',\n",
    "    'pop2010_85over', 'pop2014_85over', 'pop2017_85over', 'median_age_2010', 'median_age_2014', 'median_age_2017']\n",
    "pop_31.head()"
   ]
  },
  {
   "cell_type": "code",
   "execution_count": 32,
   "metadata": {},
   "outputs": [],
   "source": [
    "pop_31['county'] = pop_31['county'].map(lambda x: x.replace('County, Tennessee', ''))"
   ]
  },
  {
   "cell_type": "code",
   "execution_count": 33,
   "metadata": {},
   "outputs": [
    {
     "data": {
      "text/html": [
       "<div>\n",
       "<style scoped>\n",
       "    .dataframe tbody tr th:only-of-type {\n",
       "        vertical-align: middle;\n",
       "    }\n",
       "\n",
       "    .dataframe tbody tr th {\n",
       "        vertical-align: top;\n",
       "    }\n",
       "\n",
       "    .dataframe thead th {\n",
       "        text-align: right;\n",
       "    }\n",
       "</style>\n",
       "<table border=\"1\" class=\"dataframe\">\n",
       "  <thead>\n",
       "    <tr style=\"text-align: right;\">\n",
       "      <th></th>\n",
       "      <th>county</th>\n",
       "      <th>pop2010all</th>\n",
       "      <th>pop2014all</th>\n",
       "      <th>pop2017all</th>\n",
       "      <th>pop2010_50to54</th>\n",
       "      <th>pop2014_50to54</th>\n",
       "      <th>pop2017_50to54</th>\n",
       "      <th>pop2010_55to59</th>\n",
       "      <th>pop2014_55to59</th>\n",
       "      <th>pop2017_55to59</th>\n",
       "      <th>...</th>\n",
       "      <th>pop2017_75to79</th>\n",
       "      <th>pop2010_80to84</th>\n",
       "      <th>pop2014_80to84</th>\n",
       "      <th>pop2017_80to84</th>\n",
       "      <th>pop2010_85over</th>\n",
       "      <th>pop2014_85over</th>\n",
       "      <th>pop2017_85over</th>\n",
       "      <th>median_age_2010</th>\n",
       "      <th>median_age_2014</th>\n",
       "      <th>median_age_2017</th>\n",
       "    </tr>\n",
       "  </thead>\n",
       "  <tbody>\n",
       "    <tr>\n",
       "      <th>0</th>\n",
       "      <td>Anderson</td>\n",
       "      <td>75112</td>\n",
       "      <td>75131</td>\n",
       "      <td>76257</td>\n",
       "      <td>5850</td>\n",
       "      <td>5690</td>\n",
       "      <td>5296</td>\n",
       "      <td>5577</td>\n",
       "      <td>5689</td>\n",
       "      <td>5643</td>\n",
       "      <td>...</td>\n",
       "      <td>2501</td>\n",
       "      <td>1969</td>\n",
       "      <td>1779</td>\n",
       "      <td>1785</td>\n",
       "      <td>2135</td>\n",
       "      <td>2211</td>\n",
       "      <td>2173</td>\n",
       "      <td>42.6</td>\n",
       "      <td>43.3</td>\n",
       "      <td>43.2</td>\n",
       "    </tr>\n",
       "    <tr>\n",
       "      <th>1</th>\n",
       "      <td>Bedford</td>\n",
       "      <td>45086</td>\n",
       "      <td>46259</td>\n",
       "      <td>48117</td>\n",
       "      <td>3043</td>\n",
       "      <td>3207</td>\n",
       "      <td>3239</td>\n",
       "      <td>2646</td>\n",
       "      <td>2938</td>\n",
       "      <td>3143</td>\n",
       "      <td>...</td>\n",
       "      <td>1321</td>\n",
       "      <td>756</td>\n",
       "      <td>729</td>\n",
       "      <td>811</td>\n",
       "      <td>647</td>\n",
       "      <td>679</td>\n",
       "      <td>640</td>\n",
       "      <td>36.5</td>\n",
       "      <td>37.2</td>\n",
       "      <td>37.5</td>\n",
       "    </tr>\n",
       "    <tr>\n",
       "      <th>2</th>\n",
       "      <td>Benton</td>\n",
       "      <td>16511</td>\n",
       "      <td>16176</td>\n",
       "      <td>15986</td>\n",
       "      <td>1259</td>\n",
       "      <td>1204</td>\n",
       "      <td>1179</td>\n",
       "      <td>1224</td>\n",
       "      <td>1239</td>\n",
       "      <td>1206</td>\n",
       "      <td>...</td>\n",
       "      <td>717</td>\n",
       "      <td>414</td>\n",
       "      <td>399</td>\n",
       "      <td>418</td>\n",
       "      <td>362</td>\n",
       "      <td>409</td>\n",
       "      <td>415</td>\n",
       "      <td>45.6</td>\n",
       "      <td>46.7</td>\n",
       "      <td>47.4</td>\n",
       "    </tr>\n",
       "    <tr>\n",
       "      <th>3</th>\n",
       "      <td>Bledsoe</td>\n",
       "      <td>12882</td>\n",
       "      <td>14419</td>\n",
       "      <td>14717</td>\n",
       "      <td>1005</td>\n",
       "      <td>1216</td>\n",
       "      <td>1185</td>\n",
       "      <td>903</td>\n",
       "      <td>1100</td>\n",
       "      <td>1197</td>\n",
       "      <td>...</td>\n",
       "      <td>510</td>\n",
       "      <td>234</td>\n",
       "      <td>275</td>\n",
       "      <td>267</td>\n",
       "      <td>178</td>\n",
       "      <td>209</td>\n",
       "      <td>264</td>\n",
       "      <td>42.5</td>\n",
       "      <td>43.3</td>\n",
       "      <td>43.9</td>\n",
       "    </tr>\n",
       "    <tr>\n",
       "      <th>4</th>\n",
       "      <td>Blount</td>\n",
       "      <td>123213</td>\n",
       "      <td>125827</td>\n",
       "      <td>129929</td>\n",
       "      <td>9152</td>\n",
       "      <td>9658</td>\n",
       "      <td>9522</td>\n",
       "      <td>8657</td>\n",
       "      <td>9094</td>\n",
       "      <td>9615</td>\n",
       "      <td>...</td>\n",
       "      <td>4663</td>\n",
       "      <td>2550</td>\n",
       "      <td>2591</td>\n",
       "      <td>2939</td>\n",
       "      <td>2390</td>\n",
       "      <td>2656</td>\n",
       "      <td>2786</td>\n",
       "      <td>41.5</td>\n",
       "      <td>43.1</td>\n",
       "      <td>43.8</td>\n",
       "    </tr>\n",
       "  </tbody>\n",
       "</table>\n",
       "<p>5 rows × 31 columns</p>\n",
       "</div>"
      ],
      "text/plain": [
       "      county  pop2010all  pop2014all  pop2017all  pop2010_50to54  \\\n",
       "0  Anderson        75112       75131       76257            5850   \n",
       "1   Bedford        45086       46259       48117            3043   \n",
       "2    Benton        16511       16176       15986            1259   \n",
       "3   Bledsoe        12882       14419       14717            1005   \n",
       "4    Blount       123213      125827      129929            9152   \n",
       "\n",
       "   pop2014_50to54  pop2017_50to54  pop2010_55to59  pop2014_55to59  \\\n",
       "0            5690            5296            5577            5689   \n",
       "1            3207            3239            2646            2938   \n",
       "2            1204            1179            1224            1239   \n",
       "3            1216            1185             903            1100   \n",
       "4            9658            9522            8657            9094   \n",
       "\n",
       "   pop2017_55to59       ...         pop2017_75to79  pop2010_80to84  \\\n",
       "0            5643       ...                   2501            1969   \n",
       "1            3143       ...                   1321             756   \n",
       "2            1206       ...                    717             414   \n",
       "3            1197       ...                    510             234   \n",
       "4            9615       ...                   4663            2550   \n",
       "\n",
       "   pop2014_80to84  pop2017_80to84  pop2010_85over  pop2014_85over  \\\n",
       "0            1779            1785            2135            2211   \n",
       "1             729             811             647             679   \n",
       "2             399             418             362             409   \n",
       "3             275             267             178             209   \n",
       "4            2591            2939            2390            2656   \n",
       "\n",
       "   pop2017_85over  median_age_2010  median_age_2014  median_age_2017  \n",
       "0            2173             42.6             43.3             43.2  \n",
       "1             640             36.5             37.2             37.5  \n",
       "2             415             45.6             46.7             47.4  \n",
       "3             264             42.5             43.3             43.9  \n",
       "4            2786             41.5             43.1             43.8  \n",
       "\n",
       "[5 rows x 31 columns]"
      ]
     },
     "execution_count": 33,
     "metadata": {},
     "output_type": "execute_result"
    }
   ],
   "source": [
    "pop_31.head()"
   ]
  },
  {
   "cell_type": "markdown",
   "metadata": {},
   "source": [
    "#### Clean cancer data"
   ]
  },
  {
   "cell_type": "code",
   "execution_count": null,
   "metadata": {
    "scrolled": true
   },
   "outputs": [],
   "source": [
    "cancer_clean = cancer_df.drop(cancer_df.index[[0,1]])\n",
    "cancer_clean.head()"
   ]
  },
  {
   "cell_type": "code",
   "execution_count": null,
   "metadata": {
    "scrolled": true
   },
   "outputs": [],
   "source": [
    "cancer_clean['county'] = cancer_clean['county'].map(lambda x: x.replace('County',''))\n",
    "cancer_clean.head(20)\n"
   ]
  },
  {
   "cell_type": "markdown",
   "metadata": {},
   "source": [
    "#### Join cancer and population data"
   ]
  },
  {
   "cell_type": "code",
   "execution_count": 36,
   "metadata": {},
   "outputs": [
    {
     "data": {
      "text/html": [
       "<div>\n",
       "<style scoped>\n",
       "    .dataframe tbody tr th:only-of-type {\n",
       "        vertical-align: middle;\n",
       "    }\n",
       "\n",
       "    .dataframe tbody tr th {\n",
       "        vertical-align: top;\n",
       "    }\n",
       "\n",
       "    .dataframe thead th {\n",
       "        text-align: right;\n",
       "    }\n",
       "</style>\n",
       "<table border=\"1\" class=\"dataframe\">\n",
       "  <thead>\n",
       "    <tr style=\"text-align: right;\">\n",
       "      <th></th>\n",
       "      <th>county</th>\n",
       "      <th>pop2010all</th>\n",
       "      <th>pop2014all</th>\n",
       "      <th>pop2017all</th>\n",
       "      <th>pop2010_50to54</th>\n",
       "      <th>pop2014_50to54</th>\n",
       "      <th>pop2017_50to54</th>\n",
       "      <th>pop2010_55to59</th>\n",
       "      <th>pop2014_55to59</th>\n",
       "      <th>pop2017_55to59</th>\n",
       "      <th>...</th>\n",
       "      <th>fips</th>\n",
       "      <th>healthy_people</th>\n",
       "      <th>death_rate_per_100K</th>\n",
       "      <th>lower_95_ci</th>\n",
       "      <th>upper_95_ci</th>\n",
       "      <th>avg_annual_count</th>\n",
       "      <th>recent_trend</th>\n",
       "      <th>recent_5year_trend</th>\n",
       "      <th>trend_lower_95_ci</th>\n",
       "      <th>trend_upper_95_ci</th>\n",
       "    </tr>\n",
       "  </thead>\n",
       "  <tbody>\n",
       "    <tr>\n",
       "      <th>0</th>\n",
       "      <td>Anderson</td>\n",
       "      <td>75112</td>\n",
       "      <td>75131</td>\n",
       "      <td>76257</td>\n",
       "      <td>5850</td>\n",
       "      <td>5690</td>\n",
       "      <td>5296</td>\n",
       "      <td>5577</td>\n",
       "      <td>5689</td>\n",
       "      <td>5643</td>\n",
       "      <td>...</td>\n",
       "      <td>47001</td>\n",
       "      <td>No</td>\n",
       "      <td>180.6</td>\n",
       "      <td>169.1</td>\n",
       "      <td>192.7</td>\n",
       "      <td>195</td>\n",
       "      <td>falling</td>\n",
       "      <td>-0.7</td>\n",
       "      <td>-1.2</td>\n",
       "      <td>-0.2</td>\n",
       "    </tr>\n",
       "    <tr>\n",
       "      <th>1</th>\n",
       "      <td>Bedford</td>\n",
       "      <td>45086</td>\n",
       "      <td>46259</td>\n",
       "      <td>48117</td>\n",
       "      <td>3043</td>\n",
       "      <td>3207</td>\n",
       "      <td>3239</td>\n",
       "      <td>2646</td>\n",
       "      <td>2938</td>\n",
       "      <td>3143</td>\n",
       "      <td>...</td>\n",
       "      <td>47003</td>\n",
       "      <td>No</td>\n",
       "      <td>182.7</td>\n",
       "      <td>166.1</td>\n",
       "      <td>200.6</td>\n",
       "      <td>92</td>\n",
       "      <td>falling</td>\n",
       "      <td>-0.7</td>\n",
       "      <td>-1.4</td>\n",
       "      <td>-0.1</td>\n",
       "    </tr>\n",
       "    <tr>\n",
       "      <th>2</th>\n",
       "      <td>Benton</td>\n",
       "      <td>16511</td>\n",
       "      <td>16176</td>\n",
       "      <td>15986</td>\n",
       "      <td>1259</td>\n",
       "      <td>1204</td>\n",
       "      <td>1179</td>\n",
       "      <td>1224</td>\n",
       "      <td>1239</td>\n",
       "      <td>1206</td>\n",
       "      <td>...</td>\n",
       "      <td>47005</td>\n",
       "      <td>No</td>\n",
       "      <td>233.9</td>\n",
       "      <td>207.1</td>\n",
       "      <td>263.6</td>\n",
       "      <td>59</td>\n",
       "      <td>stable</td>\n",
       "      <td>0.3</td>\n",
       "      <td>-0.4</td>\n",
       "      <td>1.1</td>\n",
       "    </tr>\n",
       "    <tr>\n",
       "      <th>3</th>\n",
       "      <td>Bledsoe</td>\n",
       "      <td>12882</td>\n",
       "      <td>14419</td>\n",
       "      <td>14717</td>\n",
       "      <td>1005</td>\n",
       "      <td>1216</td>\n",
       "      <td>1185</td>\n",
       "      <td>903</td>\n",
       "      <td>1100</td>\n",
       "      <td>1197</td>\n",
       "      <td>...</td>\n",
       "      <td>47007</td>\n",
       "      <td>No</td>\n",
       "      <td>170.0</td>\n",
       "      <td>143.5</td>\n",
       "      <td>200.6</td>\n",
       "      <td>31</td>\n",
       "      <td>falling</td>\n",
       "      <td>-1.3</td>\n",
       "      <td>-2.3</td>\n",
       "      <td>-0.3</td>\n",
       "    </tr>\n",
       "    <tr>\n",
       "      <th>4</th>\n",
       "      <td>Blount</td>\n",
       "      <td>123213</td>\n",
       "      <td>125827</td>\n",
       "      <td>129929</td>\n",
       "      <td>9152</td>\n",
       "      <td>9658</td>\n",
       "      <td>9522</td>\n",
       "      <td>8657</td>\n",
       "      <td>9094</td>\n",
       "      <td>9615</td>\n",
       "      <td>...</td>\n",
       "      <td>47009</td>\n",
       "      <td>No</td>\n",
       "      <td>168.2</td>\n",
       "      <td>159.4</td>\n",
       "      <td>177.4</td>\n",
       "      <td>283</td>\n",
       "      <td>falling</td>\n",
       "      <td>-0.9</td>\n",
       "      <td>-1.3</td>\n",
       "      <td>-0.4</td>\n",
       "    </tr>\n",
       "  </tbody>\n",
       "</table>\n",
       "<p>5 rows × 41 columns</p>\n",
       "</div>"
      ],
      "text/plain": [
       "     county  pop2010all  pop2014all  pop2017all  pop2010_50to54  \\\n",
       "0  Anderson       75112       75131       76257            5850   \n",
       "1   Bedford       45086       46259       48117            3043   \n",
       "2    Benton       16511       16176       15986            1259   \n",
       "3   Bledsoe       12882       14419       14717            1005   \n",
       "4    Blount      123213      125827      129929            9152   \n",
       "\n",
       "   pop2014_50to54  pop2017_50to54  pop2010_55to59  pop2014_55to59  \\\n",
       "0            5690            5296            5577            5689   \n",
       "1            3207            3239            2646            2938   \n",
       "2            1204            1179            1224            1239   \n",
       "3            1216            1185             903            1100   \n",
       "4            9658            9522            8657            9094   \n",
       "\n",
       "   pop2017_55to59        ...           fips  healthy_people  \\\n",
       "0            5643        ...          47001              No   \n",
       "1            3143        ...          47003              No   \n",
       "2            1206        ...          47005              No   \n",
       "3            1197        ...          47007              No   \n",
       "4            9615        ...          47009              No   \n",
       "\n",
       "   death_rate_per_100K  lower_95_ci  upper_95_ci  avg_annual_count  \\\n",
       "0                180.6        169.1        192.7               195   \n",
       "1                182.7        166.1        200.6                92   \n",
       "2                233.9        207.1        263.6                59   \n",
       "3                170.0        143.5        200.6                31   \n",
       "4                168.2        159.4        177.4               283   \n",
       "\n",
       "   recent_trend  recent_5year_trend  trend_lower_95_ci  trend_upper_95_ci  \n",
       "0       falling                -0.7               -1.2               -0.2  \n",
       "1       falling                -0.7               -1.4               -0.1  \n",
       "2        stable                 0.3               -0.4                1.1  \n",
       "3       falling                -1.3               -2.3               -0.3  \n",
       "4       falling                -0.9               -1.3               -0.4  \n",
       "\n",
       "[5 rows x 41 columns]"
      ]
     },
     "execution_count": 36,
     "metadata": {},
     "output_type": "execute_result"
    }
   ],
   "source": [
    "pop_and_cancer = pd.merge(pop_31, cancer_clean, on = 'county')\n",
    "pop_and_cancer['county'] = pop_and_cancer['county'].map(lambda x: x.rstrip())\n",
    "pop_and_cancer.head()"
   ]
  },
  {
   "cell_type": "code",
   "execution_count": 37,
   "metadata": {},
   "outputs": [],
   "source": [
    "hospice_counts = hospice_df.county.value_counts().to_dict()"
   ]
  },
  {
   "cell_type": "code",
   "execution_count": 38,
   "metadata": {},
   "outputs": [],
   "source": [
    "for county in pop_and_cancer.county:\n",
    "    if county in hospice_counts:\n",
    "        continue\n",
    "    else: hospice_counts[county] = 0"
   ]
  },
  {
   "cell_type": "code",
   "execution_count": 39,
   "metadata": {},
   "outputs": [],
   "source": [
    "pop_and_cancer['hospice_count'] = pop_and_cancer['county'].map(hospice_counts)"
   ]
  },
  {
   "cell_type": "code",
   "execution_count": null,
   "metadata": {},
   "outputs": [],
   "source": [
    "pop_and_cancer.head()"
   ]
  },
  {
   "cell_type": "markdown",
   "metadata": {},
   "source": [
    "#### Find columns with missing data"
   ]
  },
  {
   "cell_type": "code",
   "execution_count": 41,
   "metadata": {},
   "outputs": [
    {
     "data": {
      "text/plain": [
       "county                 0\n",
       "pop2010all             0\n",
       "pop2014all             0\n",
       "pop2017all             0\n",
       "pop2010_50to54         0\n",
       "pop2014_50to54         0\n",
       "pop2017_50to54         0\n",
       "pop2010_55to59         0\n",
       "pop2014_55to59         0\n",
       "pop2017_55to59         0\n",
       "pop2010_60to64         0\n",
       "pop2014_60to64         0\n",
       "pop2017_60to64         0\n",
       "pop2010_65to69         0\n",
       "pop2014_65to69         0\n",
       "pop2017_65to69         0\n",
       "pop2010_70to74         0\n",
       "pop2014_70to74         0\n",
       "pop2017_70to74         0\n",
       "pop2010_75to79         0\n",
       "pop2014_75to79         0\n",
       "pop2017_75to79         0\n",
       "pop2010_80to84         0\n",
       "pop2014_80to84         0\n",
       "pop2017_80to84         0\n",
       "pop2010_85over         0\n",
       "pop2014_85over         0\n",
       "pop2017_85over         0\n",
       "median_age_2010        0\n",
       "median_age_2014        0\n",
       "median_age_2017        0\n",
       "fips                   0\n",
       "healthy_people         0\n",
       "death_rate_per_100K    0\n",
       "lower_95_ci            0\n",
       "upper_95_ci            0\n",
       "avg_annual_count       0\n",
       "recent_trend           0\n",
       "recent_5year_trend     0\n",
       "trend_lower_95_ci      0\n",
       "trend_upper_95_ci      0\n",
       "hospice_count          0\n",
       "dtype: int64"
      ]
     },
     "execution_count": 41,
     "metadata": {},
     "output_type": "execute_result"
    }
   ],
   "source": [
    "pop_and_cancer.isnull().sum()"
   ]
  },
  {
   "cell_type": "markdown",
   "metadata": {},
   "source": [
    "#### Average death rate from cancer"
   ]
  },
  {
   "cell_type": "code",
   "execution_count": 42,
   "metadata": {
    "scrolled": true
   },
   "outputs": [
    {
     "data": {
      "text/plain": [
       "['county',\n",
       " 'pop2010all',\n",
       " 'pop2014all',\n",
       " 'pop2017all',\n",
       " 'pop2010_50to54',\n",
       " 'pop2014_50to54',\n",
       " 'pop2017_50to54',\n",
       " 'pop2010_55to59',\n",
       " 'pop2014_55to59',\n",
       " 'pop2017_55to59',\n",
       " 'pop2010_60to64',\n",
       " 'pop2014_60to64',\n",
       " 'pop2017_60to64',\n",
       " 'pop2010_65to69',\n",
       " 'pop2014_65to69',\n",
       " 'pop2017_65to69',\n",
       " 'pop2010_70to74',\n",
       " 'pop2014_70to74',\n",
       " 'pop2017_70to74',\n",
       " 'pop2010_75to79',\n",
       " 'pop2014_75to79',\n",
       " 'pop2017_75to79',\n",
       " 'pop2010_80to84',\n",
       " 'pop2014_80to84',\n",
       " 'pop2017_80to84',\n",
       " 'pop2010_85over',\n",
       " 'pop2014_85over',\n",
       " 'pop2017_85over',\n",
       " 'median_age_2010',\n",
       " 'median_age_2014',\n",
       " 'median_age_2017',\n",
       " 'fips',\n",
       " 'healthy_people',\n",
       " 'death_rate_per_100K',\n",
       " 'lower_95_ci',\n",
       " 'upper_95_ci',\n",
       " 'avg_annual_count',\n",
       " 'recent_trend',\n",
       " 'recent_5year_trend',\n",
       " 'trend_lower_95_ci',\n",
       " 'trend_upper_95_ci',\n",
       " 'hospice_count']"
      ]
     },
     "execution_count": 42,
     "metadata": {},
     "output_type": "execute_result"
    }
   ],
   "source": [
    "pop_and_cancer.columns.tolist()"
   ]
  },
  {
   "cell_type": "code",
   "execution_count": 43,
   "metadata": {},
   "outputs": [
    {
     "data": {
      "text/plain": [
       "195.8726315789474"
      ]
     },
     "execution_count": 43,
     "metadata": {},
     "output_type": "execute_result"
    }
   ],
   "source": [
    "pop_and_cancer[\"death_rate_per_100K\"].mean()"
   ]
  },
  {
   "cell_type": "code",
   "execution_count": 44,
   "metadata": {},
   "outputs": [],
   "source": [
    "import matplotlib.pyplot as plt\n",
    "import numpy as np\n",
    "import seaborn as sns"
   ]
  },
  {
   "cell_type": "code",
   "execution_count": 45,
   "metadata": {
    "scrolled": true
   },
   "outputs": [
    {
     "data": {
      "image/png": "[encoded data removed]",
      "text/plain": [
       "<Figure size 432x288 with 1 Axes>"
      ]
     },
     "metadata": {},
     "output_type": "display_data"
    }
   ],
   "source": [
    "plt.hist(pop_and_cancer['recent_5year_trend'])\n",
    "plt.xlabel(\"Recent 5 Year Trend\")\n",
    "plt.ylabel(\"Counts\")\n",
    "plt.title(\"Distribution of Recent 5 Year Trend in Death Rates\")\n",
    "plt.show()"
   ]
  },
  {
   "cell_type": "code",
   "execution_count": 46,
   "metadata": {},
   "outputs": [
    {
     "data": {
      "image/png": "[encoded data removed]",
      "text/plain": [
       "<Figure size 432x288 with 1 Axes>"
      ]
     },
     "metadata": {},
     "output_type": "display_data"
    }
   ],
   "source": [
    "plt.hist(pop_and_cancer.loc[pop_and_cancer['healthy_people'] == 'Yes'].death_rate_per_100K, bins = 30)\n",
    "plt.xlabel(\"Death Rate per 100K\")\n",
    "plt.ylabel(\"Counts\")\n",
    "plt.title(\"Distribution of Death Rates for Counties Meeting Healthy People Objective\")\n",
    "plt.show()"
   ]
  },
  {
   "cell_type": "code",
   "execution_count": 47,
   "metadata": {},
   "outputs": [
    {
     "data": {
      "image/png": "[encoded data removed]",
      "text/plain": [
       "<Figure size 432x288 with 1 Axes>"
      ]
     },
     "metadata": {},
     "output_type": "display_data"
    }
   ],
   "source": [
    "plt.hist(pop_and_cancer.loc[pop_and_cancer['healthy_people'] == 'No'].death_rate_per_100K, bins = 30)\n",
    "plt.xlabel(\"Death Rate per 100K\")\n",
    "plt.ylabel(\"Counts\")\n",
    "plt.title(\"Distribution of Death Rates for Counties NOT Meeting Healthy People Objective\")\n",
    "plt.show()"
   ]
  },
  {
   "cell_type": "code",
   "execution_count": 48,
   "metadata": {},
   "outputs": [
    {
     "data": {
      "text/plain": [
       "18    Davidson\n",
       "32    Hamilton\n",
       "46        Knox\n",
       "78      Shelby\n",
       "Name: county, dtype: object"
      ]
     },
     "execution_count": 48,
     "metadata": {},
     "output_type": "execute_result"
    }
   ],
   "source": [
    "pop_and_cancer.loc[pop_and_cancer['hospice_count'] > 2].county"
   ]
  },
  {
   "cell_type": "code",
   "execution_count": 49,
   "metadata": {},
   "outputs": [
    {
     "data": {
      "text/plain": [
       "84    Trousdale\n",
       "75        Scott\n",
       "10     Cheatham\n",
       "12    Claiborne\n",
       "33      Hancock\n",
       "Name: county, dtype: object"
      ]
     },
     "execution_count": 49,
     "metadata": {},
     "output_type": "execute_result"
    }
   ],
   "source": [
    "pop_and_cancer.nlargest(5, 'death_rate_per_100K').county\n"
   ]
  },
  {
   "cell_type": "code",
   "execution_count": 50,
   "metadata": {},
   "outputs": [],
   "source": [
    "import plotnine"
   ]
  },
  {
   "cell_type": "code",
   "execution_count": 60,
   "metadata": {},
   "outputs": [
    {
     "name": "stderr",
     "output_type": "stream",
     "text": [
      "/Users/dufflab/anaconda3/lib/python3.6/site-packages/plotnine/stats/stat_bin.py:95: UserWarning: 'stat_bin()' using 'bins = 11'. Pick better value with 'binwidth'.\n",
      "  warn(msg.format(params['bins']))\n"
     ]
    },
    {
     "data": {
      "image/png": "[encoded data removed]",
      "text/plain": [
       "<Figure size 640x480 with 2 Axes>"
      ]
     },
     "metadata": {},
     "output_type": "display_data"
    },
    {
     "data": {
      "text/plain": [
       "<ggplot: (7548926370)>"
      ]
     },
     "execution_count": 60,
     "metadata": {},
     "output_type": "execute_result"
    }
   ],
   "source": [
    "(plotnine.ggplot(pop_and_cancer, plotnine.aes('death_rate_per_100K'))\n",
    " + plotnine.geom_histogram() \n",
    " + plotnine.facet_wrap('~healthy_people'))"
   ]
  }
 ],
 "metadata": {
  "kernelspec": {
   "display_name": "Python 3",
   "language": "python",
   "name": "python3"
  },
  "language_info": {
   "codemirror_mode": {
    "name": "ipython",
    "version": 3
   },
   "file_extension": ".py",
   "mimetype": "text/x-python",
   "name": "python",
   "nbconvert_exporter": "python",
   "pygments_lexer": "ipython3",
   "version": "3.6.5"
  }
 },
 "nbformat": 4,
 "nbformat_minor": 2
}
