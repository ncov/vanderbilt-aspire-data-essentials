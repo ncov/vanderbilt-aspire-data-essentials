{
 "cells": [
  {
   "cell_type": "markdown",
   "metadata": {},
   "source": [
    "## Import and clean data"
   ]
  },
  {
   "cell_type": "code",
   "execution_count": 58,
   "metadata": {},
   "outputs": [],
   "source": [
    "import pandas as pd"
   ]
  },
  {
   "cell_type": "code",
   "execution_count": 59,
   "metadata": {},
   "outputs": [],
   "source": [
    "hospice_df = pd.read_csv('data/Hospice_General_Information.csv')"
   ]
  },
  {
   "cell_type": "code",
   "execution_count": 60,
   "metadata": {},
   "outputs": [],
   "source": [
    "hospice_df = hospice_df.loc[hospice_df.State == \"TN\"]"
   ]
  },
  {
   "cell_type": "code",
   "execution_count": 61,
   "metadata": {},
   "outputs": [],
   "source": [
    "# Facility Name, Address Line 1, City, State, County Name, CMS Region, Ownership Type, and Cerfification Date\n",
    "hospice_df.columns = ['ccn', 'facility', 'address', 'address2', 'city', 'state', 'zip', 'county', 'phone', 'region', 'owner_type', 'cert_date']"
   ]
  },
  {
   "cell_type": "code",
   "execution_count": 62,
   "metadata": {},
   "outputs": [
    {
     "data": {
      "text/html": [
       "<div>\n",
       "<style scoped>\n",
       "    .dataframe tbody tr th:only-of-type {\n",
       "        vertical-align: middle;\n",
       "    }\n",
       "\n",
       "    .dataframe tbody tr th {\n",
       "        vertical-align: top;\n",
       "    }\n",
       "\n",
       "    .dataframe thead th {\n",
       "        text-align: right;\n",
       "    }\n",
       "</style>\n",
       "<table border=\"1\" class=\"dataframe\">\n",
       "  <thead>\n",
       "    <tr style=\"text-align: right;\">\n",
       "      <th></th>\n",
       "      <th>facility</th>\n",
       "      <th>address</th>\n",
       "      <th>city</th>\n",
       "      <th>state</th>\n",
       "      <th>county</th>\n",
       "      <th>region</th>\n",
       "      <th>owner_type</th>\n",
       "      <th>cert_date</th>\n",
       "    </tr>\n",
       "  </thead>\n",
       "  <tbody>\n",
       "    <tr>\n",
       "      <th>2889</th>\n",
       "      <td>ALIVE HOSPICE INC</td>\n",
       "      <td>1718 PATTERSON ROAD</td>\n",
       "      <td>NASHVILLE</td>\n",
       "      <td>TN</td>\n",
       "      <td>Davidson</td>\n",
       "      <td>4</td>\n",
       "      <td>Non-Profit</td>\n",
       "      <td>04/10/1984</td>\n",
       "    </tr>\n",
       "    <tr>\n",
       "      <th>2890</th>\n",
       "      <td>METHODIST ALLIANCE HOSPICE</td>\n",
       "      <td>6400 SHELBY VIEW DRIVE, SUITE 101</td>\n",
       "      <td>MEMPHIS</td>\n",
       "      <td>TN</td>\n",
       "      <td>Shelby</td>\n",
       "      <td>4</td>\n",
       "      <td>Non-Profit</td>\n",
       "      <td>08/31/1984</td>\n",
       "    </tr>\n",
       "  </tbody>\n",
       "</table>\n",
       "</div>"
      ],
      "text/plain": [
       "                        facility                            address  \\\n",
       "2889           ALIVE HOSPICE INC                1718 PATTERSON ROAD   \n",
       "2890  METHODIST ALLIANCE HOSPICE  6400 SHELBY VIEW DRIVE, SUITE 101   \n",
       "\n",
       "           city state    county  region  owner_type   cert_date  \n",
       "2889  NASHVILLE    TN  Davidson       4  Non-Profit  04/10/1984  \n",
       "2890    MEMPHIS    TN    Shelby       4  Non-Profit  08/31/1984  "
      ]
     },
     "execution_count": 62,
     "metadata": {},
     "output_type": "execute_result"
    }
   ],
   "source": [
    "hospice_df = hospice_df.drop(columns = ['ccn', 'address2', 'zip', 'phone'])"
   ]
  },
  {
   "cell_type": "code",
   "execution_count": 65,
   "metadata": {},
   "outputs": [],
   "source": [
    "cancer_df = pd.read_csv('data/cancer_deaths.csv', skiprows= 4, nrows= 97)"
   ]
  },
  {
   "cell_type": "code",
   "execution_count": 67,
   "metadata": {},
   "outputs": [],
   "source": [
    "cancer_df.columns = ['county', 'fips', 'healthy_people', 'death_rate_per_100K', \n",
    "                  'lower_95_ci', 'upper_95_ci', 'avg_annual_count', 'recent_trend', \n",
    "                  'recent_5year_trend', 'trend_lower_95_ci', 'trend_upper_95_ci']"
   ]
  },
  {
   "cell_type": "code",
   "execution_count": 68,
   "metadata": {
    "scrolled": false
   },
   "outputs": [],
   "source": [
    "pop_df = pd.read_csv('data/PEP_2017_PEPAGESEX.csv', skiprows = 1)"
   ]
  },
  {
   "cell_type": "code",
   "execution_count": 70,
   "metadata": {},
   "outputs": [],
   "source": [
    "pop_april = [col for col in pop_df.columns if col.startswith(\"April\")]"
   ]
  },
  {
   "cell_type": "code",
   "execution_count": 71,
   "metadata": {
    "scrolled": true
   },
   "outputs": [],
   "source": [
    "pop_clean = pop_df.drop(pop_april, axis = 1)"
   ]
  },
  {
   "cell_type": "code",
   "execution_count": 72,
   "metadata": {
    "scrolled": false
   },
   "outputs": [],
   "source": [
    "pop_male = [col for col in pop_clean.columns if \"Male\" in col]\n",
    "pop_clean = pop_clean.drop(pop_male, axis = 1)"
   ]
  },
  {
   "cell_type": "code",
   "execution_count": 73,
   "metadata": {
    "scrolled": true
   },
   "outputs": [],
   "source": [
    "pop_female = [col for col in pop_clean.columns if \"Female\" in col]\n",
    "pop_clean = pop_clean.drop(pop_female, axis = 1)"
   ]
  },
  {
   "cell_type": "code",
   "execution_count": 74,
   "metadata": {},
   "outputs": [],
   "source": [
    "pop_2011 = [col for col in pop_clean.columns if \"2011\" in col]\n",
    "pop_clean = pop_clean.drop(pop_2011, axis = 1)"
   ]
  },
  {
   "cell_type": "code",
   "execution_count": 75,
   "metadata": {},
   "outputs": [],
   "source": [
    "pop_2012 = [col for col in pop_clean.columns if \"2012\" in col]\n",
    "pop_clean = pop_clean.drop(pop_2012, axis = 1)"
   ]
  },
  {
   "cell_type": "code",
   "execution_count": 76,
   "metadata": {},
   "outputs": [],
   "source": [
    "pop_2013 = [col for col in pop_clean.columns if \"2013\" in col]\n",
    "pop_clean = pop_clean.drop(pop_2013, axis = 1)"
   ]
  },
  {
   "cell_type": "code",
   "execution_count": 77,
   "metadata": {},
   "outputs": [],
   "source": [
    "pop_2015 = [col for col in pop_clean.columns if \"2015\" in col]\n",
    "pop_clean = pop_clean.drop(pop_2015, axis = 1)"
   ]
  },
  {
   "cell_type": "code",
   "execution_count": 78,
   "metadata": {},
   "outputs": [],
   "source": [
    "pop_2016 = [col for col in pop_clean.columns if \"2016\" in col]\n",
    "pop_clean = pop_clean.drop(pop_2016, axis = 1)"
   ]
  },
  {
   "cell_type": "code",
   "execution_count": 79,
   "metadata": {
    "scrolled": true
   },
   "outputs": [],
   "source": [
    "pop_under = [col for col in pop_clean.columns if \"oth Sexes; Under\" in col]\n",
    "pop_clean = pop_clean.drop(pop_under, axis = 1)"
   ]
  },
  {
   "cell_type": "code",
   "execution_count": 80,
   "metadata": {},
   "outputs": [],
   "source": [
    "pop_31 = pop_clean.filter(items = ['Geography',\n",
    " 'Population Estimate (as of July 1) - 2010 - Both Sexes; Total',\n",
    " 'Population Estimate (as of July 1) - 2014 - Both Sexes; Total',\n",
    " 'Population Estimate (as of July 1) - 2017 - Both Sexes; Total','Population Estimate (as of July 1) - 2010 - Both Sexes; Total - 50 to 54 years',\n",
    " 'Population Estimate (as of July 1) - 2014 - Both Sexes; Total - 50 to 54 years',\n",
    " 'Population Estimate (as of July 1) - 2017 - Both Sexes; Total - 50 to 54 years',\n",
    " 'Population Estimate (as of July 1) - 2010 - Both Sexes; Total - 55 to 59 years',\n",
    " 'Population Estimate (as of July 1) - 2014 - Both Sexes; Total - 55 to 59 years',\n",
    " 'Population Estimate (as of July 1) - 2017 - Both Sexes; Total - 55 to 59 years',\n",
    " 'Population Estimate (as of July 1) - 2010 - Both Sexes; Total - 60 to 64 years',\n",
    " 'Population Estimate (as of July 1) - 2014 - Both Sexes; Total - 60 to 64 years',\n",
    " 'Population Estimate (as of July 1) - 2017 - Both Sexes; Total - 60 to 64 years',\n",
    " 'Population Estimate (as of July 1) - 2010 - Both Sexes; Total - 65 to 69 years',\n",
    " 'Population Estimate (as of July 1) - 2014 - Both Sexes; Total - 65 to 69 years',\n",
    " 'Population Estimate (as of July 1) - 2017 - Both Sexes; Total - 65 to 69 years',\n",
    " 'Population Estimate (as of July 1) - 2010 - Both Sexes; Total - 70 to 74 years',\n",
    " 'Population Estimate (as of July 1) - 2014 - Both Sexes; Total - 70 to 74 years',\n",
    " 'Population Estimate (as of July 1) - 2017 - Both Sexes; Total - 70 to 74 years',\n",
    " 'Population Estimate (as of July 1) - 2010 - Both Sexes; Total - 75 to 79 years',\n",
    " 'Population Estimate (as of July 1) - 2014 - Both Sexes; Total - 75 to 79 years',\n",
    " 'Population Estimate (as of July 1) - 2017 - Both Sexes; Total - 75 to 79 years',\n",
    " 'Population Estimate (as of July 1) - 2010 - Both Sexes; Total - 80 to 84 years',\n",
    " 'Population Estimate (as of July 1) - 2014 - Both Sexes; Total - 80 to 84 years',\n",
    " 'Population Estimate (as of July 1) - 2017 - Both Sexes; Total - 80 to 84 years',\n",
    " 'Population Estimate (as of July 1) - 2010 - Both Sexes; Total - 85 years and over',\n",
    " 'Population Estimate (as of July 1) - 2014 - Both Sexes; Total - 85 years and over',\n",
    " 'Population Estimate (as of July 1) - 2017 - Both Sexes; Total - 85 years and over','Population Estimate (as of July 1) - 2010 - Both Sexes; Median age (years)',\n",
    " 'Population Estimate (as of July 1) - 2014 - Both Sexes; Median age (years)',\n",
    " 'Population Estimate (as of July 1) - 2017 - Both Sexes; Median age (years)'])"
   ]
  },
  {
   "cell_type": "code",
   "execution_count": 81,
   "metadata": {
    "scrolled": true
   },
   "outputs": [],
   "source": [
    "pop_31.columns = ['county', 'pop2010all', 'pop2014all', 'pop2017all', 'pop2010_50to54','pop2014_50to54', 'pop2017_50to54', 'pop2010_55to59', 'pop2014_55to59', 'pop2017_55to59', 'pop2010_60to64', 'pop2014_60to64', 'pop2017_60to64',\n",
    "    'pop2010_65to69', 'pop2014_65to69', 'pop2017_65to69', 'pop2010_70to74', 'pop2014_70to74', 'pop2017_70to74', 'pop2010_75to79', 'pop2014_75to79', 'pop2017_75to79', 'pop2010_80to84', 'pop2014_80to84', 'pop2017_80to84',\n",
    "    'pop2010_85over', 'pop2014_85over', 'pop2017_85over', 'median_age_2010', 'median_age_2014', 'median_age_2017']"
   ]
  },
  {
   "cell_type": "code",
   "execution_count": 82,
   "metadata": {},
   "outputs": [],
   "source": [
    "pop_31['county'] = pop_31['county'].map(lambda x: x.replace('County, Tennessee', ''))"
   ]
  },
  {
   "cell_type": "code",
   "execution_count": 83,
   "metadata": {
    "scrolled": true
   },
   "outputs": [],
   "source": [
    "cancer_clean = cancer_df.drop(cancer_df.index[[0,1]])"
   ]
  },
  {
   "cell_type": "code",
   "execution_count": 84,
   "metadata": {
    "scrolled": true
   },
   "outputs": [],
   "source": [
    "cancer_clean['county'] = cancer_clean['county'].map(lambda x: x.replace('County',''))"
   ]
  },
  {
   "cell_type": "markdown",
   "metadata": {},
   "source": [
    "## Join cancer and population data"
   ]
  },
  {
   "cell_type": "code",
   "execution_count": 85,
   "metadata": {},
   "outputs": [],
   "source": [
    "pop_and_cancer = pd.merge(pop_31, cancer_clean, on = 'county')\n",
    "pop_and_cancer['county'] = pop_and_cancer['county'].map(lambda x: x.rstrip())"
   ]
  },
  {
   "cell_type": "code",
   "execution_count": 86,
   "metadata": {},
   "outputs": [],
   "source": [
    "hospice_counts = hospice_df.county.value_counts().to_dict()"
   ]
  },
  {
   "cell_type": "code",
   "execution_count": 87,
   "metadata": {},
   "outputs": [],
   "source": [
    "for county in pop_and_cancer.county:\n",
    "    if county in hospice_counts:\n",
    "        continue\n",
    "    else: hospice_counts[county] = 0"
   ]
  },
  {
   "cell_type": "code",
   "execution_count": 88,
   "metadata": {},
   "outputs": [],
   "source": [
    "pop_and_cancer['hospice_count'] = pop_and_cancer['county'].map(hospice_counts)"
   ]
  },
  {
   "cell_type": "markdown",
   "metadata": {},
   "source": [
    "#### Find columns with missing data"
   ]
  },
  {
   "cell_type": "code",
   "execution_count": 89,
   "metadata": {},
   "outputs": [
    {
     "data": {
      "text/plain": [
       "county                 0\n",
       "pop2010all             0\n",
       "pop2014all             0\n",
       "pop2017all             0\n",
       "pop2010_50to54         0\n",
       "pop2014_50to54         0\n",
       "pop2017_50to54         0\n",
       "pop2010_55to59         0\n",
       "pop2014_55to59         0\n",
       "pop2017_55to59         0\n",
       "pop2010_60to64         0\n",
       "pop2014_60to64         0\n",
       "pop2017_60to64         0\n",
       "pop2010_65to69         0\n",
       "pop2014_65to69         0\n",
       "pop2017_65to69         0\n",
       "pop2010_70to74         0\n",
       "pop2014_70to74         0\n",
       "pop2017_70to74         0\n",
       "pop2010_75to79         0\n",
       "pop2014_75to79         0\n",
       "pop2017_75to79         0\n",
       "pop2010_80to84         0\n",
       "pop2014_80to84         0\n",
       "pop2017_80to84         0\n",
       "pop2010_85over         0\n",
       "pop2014_85over         0\n",
       "pop2017_85over         0\n",
       "median_age_2010        0\n",
       "median_age_2014        0\n",
       "median_age_2017        0\n",
       "fips                   0\n",
       "healthy_people         0\n",
       "death_rate_per_100K    0\n",
       "lower_95_ci            0\n",
       "upper_95_ci            0\n",
       "avg_annual_count       0\n",
       "recent_trend           0\n",
       "recent_5year_trend     0\n",
       "trend_lower_95_ci      0\n",
       "trend_upper_95_ci      0\n",
       "hospice_count          0\n",
       "dtype: int64"
      ]
     },
     "execution_count": 89,
     "metadata": {},
     "output_type": "execute_result"
    }
   ],
   "source": [
    "pop_and_cancer.isnull().sum()"
   ]
  },
  {
   "cell_type": "markdown",
   "metadata": {},
   "source": [
    "## Average death rate from cancer"
   ]
  },
  {
   "cell_type": "code",
   "execution_count": 91,
   "metadata": {},
   "outputs": [
    {
     "data": {
      "text/plain": [
       "195.8726315789474"
      ]
     },
     "execution_count": 91,
     "metadata": {},
     "output_type": "execute_result"
    }
   ],
   "source": [
    "pop_and_cancer[\"death_rate_per_100K\"].mean()"
   ]
  },
  {
   "cell_type": "code",
   "execution_count": 92,
   "metadata": {},
   "outputs": [],
   "source": [
    "import matplotlib.pyplot as plt\n",
    "import numpy as np\n",
    "import seaborn as sns"
   ]
  },
  {
   "cell_type": "code",
   "execution_count": 93,
   "metadata": {
    "scrolled": true
   },
   "outputs": [
    {
     "data": {
      "image/png": "[encoded data removed]",
      "text/plain": [
       "<Figure size 432x288 with 1 Axes>"
      ]
     },
     "metadata": {},
     "output_type": "display_data"
    }
   ],
   "source": [
    "plt.hist(pop_and_cancer['recent_5year_trend'])\n",
    "plt.xlabel(\"Recent 5 Year Trend\")\n",
    "plt.ylabel(\"Counts\")\n",
    "plt.title(\"Distribution of Recent 5 Year Trend in Death Rates\")\n",
    "plt.show()"
   ]
  },
  {
   "cell_type": "code",
   "execution_count": 132,
   "metadata": {
    "scrolled": true
   },
   "outputs": [
    {
     "data": {
      "image/png": "[encoded data removed]",
      "text/plain": [
       "<Figure size 432x288 with 1 Axes>"
      ]
     },
     "metadata": {},
     "output_type": "display_data"
    }
   ],
   "source": [
    "plt.hist(pop_and_cancer.recent_trend, bins = 3, stacked = True)\n",
    "plt.ylabel(\"Counts\")\n",
    "plt.title(\"Distribution of Recent 5 Year Trend in Death Rates\")\n",
    "plt.show()"
   ]
  },
  {
   "cell_type": "code",
   "execution_count": 96,
   "metadata": {},
   "outputs": [
    {
     "data": {
      "image/png": "[encoded data removed]",
      "text/plain": [
       "<Figure size 432x288 with 1 Axes>"
      ]
     },
     "metadata": {},
     "output_type": "display_data"
    }
   ],
   "source": [
    "plt.hist(pop_and_cancer.loc[pop_and_cancer['healthy_people'] == 'Yes'].death_rate_per_100K, bins = 30)\n",
    "plt.xlabel(\"Death Rate per 100K\")\n",
    "plt.ylabel(\"Counts\")\n",
    "plt.title(\"Distribution of Death Rates for Counties Meeting Healthy People Objective\")\n",
    "plt.show()"
   ]
  },
  {
   "cell_type": "code",
   "execution_count": 97,
   "metadata": {},
   "outputs": [
    {
     "data": {
      "image/png": "[encoded data removed]",
      "text/plain": [
       "<Figure size 432x288 with 1 Axes>"
      ]
     },
     "metadata": {},
     "output_type": "display_data"
    }
   ],
   "source": [
    "plt.hist(pop_and_cancer.loc[pop_and_cancer['healthy_people'] == 'No'].death_rate_per_100K, bins = 30)\n",
    "plt.xlabel(\"Death Rate per 100K\")\n",
    "plt.ylabel(\"Counts\")\n",
    "plt.title(\"Distribution of Death Rates for Counties NOT Meeting Healthy People Objective\")\n",
    "plt.show()"
   ]
  },
  {
   "cell_type": "code",
   "execution_count": 98,
   "metadata": {},
   "outputs": [
    {
     "data": {
      "text/plain": [
       "18    Davidson\n",
       "32    Hamilton\n",
       "46        Knox\n",
       "78      Shelby\n",
       "Name: county, dtype: object"
      ]
     },
     "execution_count": 98,
     "metadata": {},
     "output_type": "execute_result"
    }
   ],
   "source": [
    "pop_and_cancer.loc[pop_and_cancer['hospice_count'] > 2].county"
   ]
  },
  {
   "cell_type": "code",
   "execution_count": 99,
   "metadata": {},
   "outputs": [
    {
     "data": {
      "text/plain": [
       "84    Trousdale\n",
       "75        Scott\n",
       "10     Cheatham\n",
       "12    Claiborne\n",
       "33      Hancock\n",
       "Name: county, dtype: object"
      ]
     },
     "execution_count": 99,
     "metadata": {},
     "output_type": "execute_result"
    }
   ],
   "source": [
    "pop_and_cancer.nlargest(5, 'death_rate_per_100K').county\n"
   ]
  },
  {
   "cell_type": "code",
   "execution_count": 100,
   "metadata": {},
   "outputs": [],
   "source": [
    "import plotnine as gg"
   ]
  },
  {
   "cell_type": "code",
   "execution_count": 101,
   "metadata": {},
   "outputs": [
    {
     "name": "stderr",
     "output_type": "stream",
     "text": [
      "/Users/dufflab/anaconda3/lib/python3.6/site-packages/plotnine/stats/stat_bin.py:95: UserWarning: 'stat_bin()' using 'bins = 11'. Pick better value with 'binwidth'.\n",
      "  warn(msg.format(params['bins']))\n"
     ]
    },
    {
     "data": {
      "image/png": "[encoded data removed]",
      "text/plain": [
       "<Figure size 640x480 with 2 Axes>"
      ]
     },
     "metadata": {},
     "output_type": "display_data"
    },
    {
     "data": {
      "text/plain": [
       "<ggplot: (-9223372029311201213)>"
      ]
     },
     "execution_count": 101,
     "metadata": {},
     "output_type": "execute_result"
    }
   ],
   "source": [
    "(gg.ggplot(pop_and_cancer, gg.aes('death_rate_per_100K'))\n",
    " + gg.geom_histogram() \n",
    " + gg.facet_wrap('~healthy_people'))"
   ]
  },
  {
   "cell_type": "code",
   "execution_count": 102,
   "metadata": {},
   "outputs": [],
   "source": [
    "pop_2010 = [col for col in pop_and_cancer.columns if \"2010_\" in col]\n",
    "pop_and_cancer['pop2010_over50'] = pop_and_cancer[pop_2010].sum(axis=1)"
   ]
  },
  {
   "cell_type": "code",
   "execution_count": 103,
   "metadata": {
    "scrolled": true
   },
   "outputs": [],
   "source": [
    "pop_2014 = [col for col in pop_and_cancer.columns if \"2014_\" in col]\n",
    "pop_and_cancer['pop2014_over50'] = pop_and_cancer[pop_2014].sum(axis=1)"
   ]
  },
  {
   "cell_type": "code",
   "execution_count": 104,
   "metadata": {},
   "outputs": [],
   "source": [
    "pop_2017 = [col for col in pop_and_cancer.columns if \"2017_\" in col]\n",
    "pop_and_cancer['pop2017_over50'] = pop_and_cancer[pop_2017].sum(axis=1)"
   ]
  },
  {
   "cell_type": "code",
   "execution_count": 105,
   "metadata": {},
   "outputs": [],
   "source": [
    "pop_and_cancer = pop_and_cancer.assign(percent_pop_over_50_2010 = pop_and_cancer.pop2010_over50 /pop_and_cancer.pop2010all)\n",
    "pop_and_cancer = pop_and_cancer.assign(percent_pop_over_50_2014 = pop_and_cancer.pop2014_over50 /pop_and_cancer.pop2014all)\n",
    "pop_and_cancer = pop_and_cancer.assign(percent_pop_over_50_2017 = pop_and_cancer.pop2017_over50 /pop_and_cancer.pop2017all)"
   ]
  },
  {
   "cell_type": "code",
   "execution_count": 106,
   "metadata": {},
   "outputs": [
    {
     "data": {
      "text/html": [
       "<div>\n",
       "<style scoped>\n",
       "    .dataframe tbody tr th:only-of-type {\n",
       "        vertical-align: middle;\n",
       "    }\n",
       "\n",
       "    .dataframe tbody tr th {\n",
       "        vertical-align: top;\n",
       "    }\n",
       "\n",
       "    .dataframe thead th {\n",
       "        text-align: right;\n",
       "    }\n",
       "</style>\n",
       "<table border=\"1\" class=\"dataframe\">\n",
       "  <thead>\n",
       "    <tr style=\"text-align: right;\">\n",
       "      <th></th>\n",
       "      <th>county</th>\n",
       "      <th>pop2010all</th>\n",
       "      <th>pop2014all</th>\n",
       "      <th>pop2017all</th>\n",
       "      <th>median_age_2010</th>\n",
       "      <th>median_age_2014</th>\n",
       "      <th>median_age_2017</th>\n",
       "      <th>fips</th>\n",
       "      <th>healthy_people</th>\n",
       "      <th>death_rate_per_100K</th>\n",
       "      <th>...</th>\n",
       "      <th>upper_95_ci</th>\n",
       "      <th>avg_annual_count</th>\n",
       "      <th>recent_trend</th>\n",
       "      <th>recent_5year_trend</th>\n",
       "      <th>trend_lower_95_ci</th>\n",
       "      <th>trend_upper_95_ci</th>\n",
       "      <th>hospice_count</th>\n",
       "      <th>percent_pop_over_50_2010</th>\n",
       "      <th>percent_pop_over_50_2014</th>\n",
       "      <th>percent_pop_over_50_2017</th>\n",
       "    </tr>\n",
       "  </thead>\n",
       "  <tbody>\n",
       "    <tr>\n",
       "      <th>0</th>\n",
       "      <td>Anderson</td>\n",
       "      <td>75112</td>\n",
       "      <td>75131</td>\n",
       "      <td>76257</td>\n",
       "      <td>42.6</td>\n",
       "      <td>43.3</td>\n",
       "      <td>43.2</td>\n",
       "      <td>47001</td>\n",
       "      <td>No</td>\n",
       "      <td>180.6</td>\n",
       "      <td>...</td>\n",
       "      <td>192.7</td>\n",
       "      <td>195</td>\n",
       "      <td>falling</td>\n",
       "      <td>-0.7</td>\n",
       "      <td>-1.2</td>\n",
       "      <td>-0.2</td>\n",
       "      <td>0</td>\n",
       "      <td>0.393679</td>\n",
       "      <td>0.409751</td>\n",
       "      <td>0.412762</td>\n",
       "    </tr>\n",
       "    <tr>\n",
       "      <th>1</th>\n",
       "      <td>Bedford</td>\n",
       "      <td>45086</td>\n",
       "      <td>46259</td>\n",
       "      <td>48117</td>\n",
       "      <td>36.5</td>\n",
       "      <td>37.2</td>\n",
       "      <td>37.5</td>\n",
       "      <td>47003</td>\n",
       "      <td>No</td>\n",
       "      <td>182.7</td>\n",
       "      <td>...</td>\n",
       "      <td>200.6</td>\n",
       "      <td>92</td>\n",
       "      <td>falling</td>\n",
       "      <td>-0.7</td>\n",
       "      <td>-1.4</td>\n",
       "      <td>-0.1</td>\n",
       "      <td>0</td>\n",
       "      <td>0.312026</td>\n",
       "      <td>0.332325</td>\n",
       "      <td>0.339755</td>\n",
       "    </tr>\n",
       "    <tr>\n",
       "      <th>2</th>\n",
       "      <td>Benton</td>\n",
       "      <td>16511</td>\n",
       "      <td>16176</td>\n",
       "      <td>15986</td>\n",
       "      <td>45.6</td>\n",
       "      <td>46.7</td>\n",
       "      <td>47.4</td>\n",
       "      <td>47005</td>\n",
       "      <td>No</td>\n",
       "      <td>233.9</td>\n",
       "      <td>...</td>\n",
       "      <td>263.6</td>\n",
       "      <td>59</td>\n",
       "      <td>stable</td>\n",
       "      <td>0.3</td>\n",
       "      <td>-0.4</td>\n",
       "      <td>1.1</td>\n",
       "      <td>0</td>\n",
       "      <td>0.433590</td>\n",
       "      <td>0.452955</td>\n",
       "      <td>0.464281</td>\n",
       "    </tr>\n",
       "    <tr>\n",
       "      <th>3</th>\n",
       "      <td>Bledsoe</td>\n",
       "      <td>12882</td>\n",
       "      <td>14419</td>\n",
       "      <td>14717</td>\n",
       "      <td>42.5</td>\n",
       "      <td>43.3</td>\n",
       "      <td>43.9</td>\n",
       "      <td>47007</td>\n",
       "      <td>No</td>\n",
       "      <td>170.0</td>\n",
       "      <td>...</td>\n",
       "      <td>200.6</td>\n",
       "      <td>31</td>\n",
       "      <td>falling</td>\n",
       "      <td>-1.3</td>\n",
       "      <td>-2.3</td>\n",
       "      <td>-0.3</td>\n",
       "      <td>0</td>\n",
       "      <td>0.377659</td>\n",
       "      <td>0.394271</td>\n",
       "      <td>0.410546</td>\n",
       "    </tr>\n",
       "    <tr>\n",
       "      <th>4</th>\n",
       "      <td>Blount</td>\n",
       "      <td>123213</td>\n",
       "      <td>125827</td>\n",
       "      <td>129929</td>\n",
       "      <td>41.5</td>\n",
       "      <td>43.1</td>\n",
       "      <td>43.8</td>\n",
       "      <td>47009</td>\n",
       "      <td>No</td>\n",
       "      <td>168.2</td>\n",
       "      <td>...</td>\n",
       "      <td>177.4</td>\n",
       "      <td>283</td>\n",
       "      <td>falling</td>\n",
       "      <td>-0.9</td>\n",
       "      <td>-1.3</td>\n",
       "      <td>-0.4</td>\n",
       "      <td>1</td>\n",
       "      <td>0.373800</td>\n",
       "      <td>0.400860</td>\n",
       "      <td>0.414311</td>\n",
       "    </tr>\n",
       "  </tbody>\n",
       "</table>\n",
       "<p>5 rows × 21 columns</p>\n",
       "</div>"
      ],
      "text/plain": [
       "     county  pop2010all  pop2014all  pop2017all  median_age_2010  \\\n",
       "0  Anderson       75112       75131       76257             42.6   \n",
       "1   Bedford       45086       46259       48117             36.5   \n",
       "2    Benton       16511       16176       15986             45.6   \n",
       "3   Bledsoe       12882       14419       14717             42.5   \n",
       "4    Blount      123213      125827      129929             41.5   \n",
       "\n",
       "   median_age_2014  median_age_2017   fips healthy_people  \\\n",
       "0             43.3             43.2  47001             No   \n",
       "1             37.2             37.5  47003             No   \n",
       "2             46.7             47.4  47005             No   \n",
       "3             43.3             43.9  47007             No   \n",
       "4             43.1             43.8  47009             No   \n",
       "\n",
       "   death_rate_per_100K            ...             upper_95_ci  \\\n",
       "0                180.6            ...                   192.7   \n",
       "1                182.7            ...                   200.6   \n",
       "2                233.9            ...                   263.6   \n",
       "3                170.0            ...                   200.6   \n",
       "4                168.2            ...                   177.4   \n",
       "\n",
       "   avg_annual_count  recent_trend recent_5year_trend  trend_lower_95_ci  \\\n",
       "0               195       falling               -0.7               -1.2   \n",
       "1                92       falling               -0.7               -1.4   \n",
       "2                59        stable                0.3               -0.4   \n",
       "3                31       falling               -1.3               -2.3   \n",
       "4               283       falling               -0.9               -1.3   \n",
       "\n",
       "   trend_upper_95_ci  hospice_count  percent_pop_over_50_2010  \\\n",
       "0               -0.2              0                  0.393679   \n",
       "1               -0.1              0                  0.312026   \n",
       "2                1.1              0                  0.433590   \n",
       "3               -0.3              0                  0.377659   \n",
       "4               -0.4              1                  0.373800   \n",
       "\n",
       "   percent_pop_over_50_2014  percent_pop_over_50_2017  \n",
       "0                  0.409751                  0.412762  \n",
       "1                  0.332325                  0.339755  \n",
       "2                  0.452955                  0.464281  \n",
       "3                  0.394271                  0.410546  \n",
       "4                  0.400860                  0.414311  \n",
       "\n",
       "[5 rows x 21 columns]"
      ]
     },
     "execution_count": 106,
     "metadata": {},
     "output_type": "execute_result"
    }
   ],
   "source": [
    "pop_and_cancer2 = pop_and_cancer.drop(columns = ['pop2010_50to54', 'pop2014_50to54', 'pop2017_50to54', 'pop2010_55to59', 'pop2014_55to59', 'pop2017_55to59', 'pop2010_60to64', 'pop2014_60to64', 'pop2017_60to64', 'pop2010_65to69', 'pop2014_65to69', 'pop2017_65to69', 'pop2010_70to74', 'pop2014_70to74', 'pop2017_70to74', 'pop2010_75to79', 'pop2014_75to79', 'pop2017_75to79', 'pop2010_80to84', 'pop2014_80to84', 'pop2017_80to84', 'pop2010_85over', 'pop2014_85over', 'pop2017_85over', 'pop2010_over50', 'pop2014_over50', 'pop2017_over50'])\n",
    "pop_and_cancer2.head()"
   ]
  },
  {
   "cell_type": "code",
   "execution_count": 107,
   "metadata": {},
   "outputs": [
    {
     "data": {
      "text/plain": [
       "17    Cumberland\n",
       "68       Pickett\n",
       "Name: county, dtype: object"
      ]
     },
     "execution_count": 107,
     "metadata": {},
     "output_type": "execute_result"
    }
   ],
   "source": [
    "#in 2017, for which two counties was the population over age 50 greater than half of the total population?\n",
    "pop_and_cancer2.loc[pop_and_cancer2['percent_pop_over_50_2017'] > 0.5].county"
   ]
  },
  {
   "cell_type": "code",
   "execution_count": 108,
   "metadata": {},
   "outputs": [
    {
     "data": {
      "text/plain": [
       "18      Davidson\n",
       "62    Montgomery\n",
       "74    Rutherford\n",
       "78        Shelby\n",
       "84     Trousdale\n",
       "Name: county, dtype: object"
      ]
     },
     "execution_count": 108,
     "metadata": {},
     "output_type": "execute_result"
    }
   ],
   "source": [
    "#in 2017, for which five counties was the population over age 50 less than a third of the total population?\n",
    "pop_and_cancer2.loc[pop_and_cancer2['percent_pop_over_50_2017'] < .33].county\n",
    "#note that there are five for < .33 but six counties when < (1/3)"
   ]
  },
  {
   "cell_type": "code",
   "execution_count": 109,
   "metadata": {
    "scrolled": true
   },
   "outputs": [
    {
     "data": {
      "image/png": "[encoded data removed]",
      "text/plain": [
       "<Figure size 640x480 with 1 Axes>"
      ]
     },
     "metadata": {},
     "output_type": "display_data"
    },
    {
     "data": {
      "text/plain": [
       "<ggplot: (-9223372029311000453)>"
      ]
     },
     "execution_count": 109,
     "metadata": {},
     "output_type": "execute_result"
    }
   ],
   "source": [
    "(gg.ggplot(pop_and_cancer2, gg.aes('percent_pop_over_50_2017', 'death_rate_per_100K'))\n",
    " + gg.geom_point()\n",
    " + gg.xlab('Proportion of Population Over 50') \n",
    " + gg.ylab('Death Rate per 100K People')\n",
    " + gg.ggtitle('Relationship between Population over 50 and Cancer Death Rates for TN Counties in 2017')\n",
    " + gg.theme_matplotlib())"
   ]
  },
  {
   "cell_type": "code",
   "execution_count": 110,
   "metadata": {},
   "outputs": [],
   "source": [
    "pop_and_cancer2 = pop_and_cancer2.assign(normalized_hospice_rate = (pop_and_cancer2.hospice_count /pop_and_cancer2.pop2017all) * 100000)"
   ]
  },
  {
   "cell_type": "code",
   "execution_count": 111,
   "metadata": {},
   "outputs": [
    {
     "data": {
      "image/png": "[encoded data removed]",
      "text/plain": [
       "<Figure size 640x480 with 1 Axes>"
      ]
     },
     "metadata": {},
     "output_type": "display_data"
    },
    {
     "data": {
      "text/plain": [
       "<ggplot: (-9223372029310996848)>"
      ]
     },
     "execution_count": 111,
     "metadata": {},
     "output_type": "execute_result"
    }
   ],
   "source": [
    "(gg.ggplot(pop_and_cancer2, gg.aes('percent_pop_over_50_2017', 'normalized_hospice_rate'))\n",
    " + gg.geom_point()\n",
    " + gg.xlab('Proportion of Population Over 50')\n",
    " + gg.ylab('# of Hospices / County Population * 100,000')\n",
    " + gg.ggtitle('Relationship between Population over 50 and Normalized Hospice Rates for TN Counties in 2017')\n",
    " + gg.theme_matplotlib())"
   ]
  },
  {
   "cell_type": "code",
   "execution_count": 112,
   "metadata": {},
   "outputs": [
    {
     "data": {
      "image/png": "[encoded data removed]",
      "text/plain": [
       "<Figure size 640x480 with 1 Axes>"
      ]
     },
     "metadata": {},
     "output_type": "display_data"
    },
    {
     "data": {
      "text/plain": [
       "<ggplot: (-9223372029849667433)>"
      ]
     },
     "execution_count": 112,
     "metadata": {},
     "output_type": "execute_result"
    }
   ],
   "source": [
    "(gg.ggplot(pop_and_cancer2, gg.aes('healthy_people', 'normalized_hospice_rate'))\n",
    " + gg.geom_boxplot()\n",
    " + gg.xlab('Met Healthy People Cancer Goal?')\n",
    " + gg.ylab('# of Hospices / County Population * 100,000')\n",
    " + gg.ggtitle('Distribution of Hospice Rates for TN Counties Based on Healthy People Goals')\n",
    " + gg.theme_matplotlib())"
   ]
  },
  {
   "cell_type": "code",
   "execution_count": 137,
   "metadata": {},
   "outputs": [],
   "source": [
    "pop_and_cancer2.to_csv('cancer_data.csv')"
   ]
  },
  {
   "cell_type": "code",
   "execution_count": null,
   "metadata": {},
   "outputs": [],
   "source": []
  }
 ],
 "metadata": {
  "kernelspec": {
   "display_name": "Python 3",
   "language": "python",
   "name": "python3"
  },
  "language_info": {
   "codemirror_mode": {
    "name": "ipython",
    "version": 3
   },
   "file_extension": ".py",
   "mimetype": "text/x-python",
   "name": "python",
   "nbconvert_exporter": "python",
   "pygments_lexer": "ipython3",
   "version": "3.6.5"
  }
 },
 "nbformat": 4,
 "nbformat_minor": 2
}
